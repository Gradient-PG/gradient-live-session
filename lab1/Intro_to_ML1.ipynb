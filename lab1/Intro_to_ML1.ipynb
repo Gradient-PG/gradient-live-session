{
  "nbformat": 4,
  "nbformat_minor": 0,
  "metadata": {
    "colab": {
      "name": "Intro_to_ML1.ipynb",
      "provenance": [],
      "collapsed_sections": []
    },
    "kernelspec": {
      "name": "python3",
      "display_name": "Python 3"
    },
    "language_info": {
      "name": "python"
    }
  },
  "cells": [
    {
      "cell_type": "markdown",
      "metadata": {
        "id": "nSB-ncV7F4NB"
      },
      "source": [
        "# ***Intro to ML1***\n",
        "\n"
      ]
    },
    {
      "cell_type": "markdown",
      "metadata": {
        "id": "_fJ4S7naRubk"
      },
      "source": [
        "## ***Wprowadzenie***\n",
        "\n",
        "W tym notatniku przedstawię przykładową implementację metod opisanych podczas wykładu przy użyciu zaprojektowanych w tym celu popularnych bibliotek języka Python.\n",
        "\n",
        "Omówiona zostanie regresja i klasyfikacja, a także zaimplementowane i dostępne w gotowych bibliotekach metody przeznaczone do tworzenia i treningu modeli uczenia maszynowego. "
      ]
    },
    {
      "cell_type": "markdown",
      "metadata": {
        "id": "1x4oq2oMSoOE"
      },
      "source": [
        "## ***Wykorzystywane biblioteki***\n",
        "\n",
        "**[Numpy](https://numpy.org/)** - to biblioteka programistyczna dla języka Python, dodająca obsługę dużych, wielowymiarowych tabel i macierzy.\n",
        "\n",
        "**[Scikit-learn](https://scikit-learn.org/stable/)** - Scikit-learn biblioteka do uczenia maszynowego języka programowania Python. Zawiera różne algorytmy klasyfikacji, regresji a także metody pozwalające na automatyzację przebiegu treningu modeli.\n",
        "\n",
        "**[Matplotlib](https://matplotlib.org/)** - biblioteka służącą do tworzenia szerokiej gamy wykresów."
      ]
    },
    {
      "cell_type": "markdown",
      "metadata": {
        "id": "Os-NzVYCSmn7"
      },
      "source": [
        "## ***Regresja***\n",
        "Celem regresji jest predykcja dla podanych danych wartości ciągłych lub uporządkowanych czyli wartości z dziedziny liczb rzeczywistych.\n",
        "\n",
        "Przykładem regresji może być predykcja cen laptopów, cen mieszkań na rynku czy poziomu cukru we krwi."
      ]
    },
    {
      "cell_type": "markdown",
      "metadata": {
        "id": "2uQSfloLTA-K"
      },
      "source": [
        "### ***Dane***\n",
        "Najpierw przygotujmy proste dane uczące.\n",
        "\n",
        "Będą to dane reprezentujące parametry poszczególnych laptopów (jako macierz X) i ich ceny (wektor etykiet y)."
      ]
    },
    {
      "cell_type": "code",
      "metadata": {
        "id": "PsmfDdmfTrGp",
        "colab": {
          "base_uri": "https://localhost:8080/"
        },
        "outputId": "907e1543-f57b-4288-8559-5f6ded16b732"
      },
      "source": [
        "# import biblioteki numpy\n",
        "import numpy as np\n",
        "\n",
        "# Nasze dane jako wektory 4 wartości = [RAM, GPU VRAM, liczba rdzeni CPU, taktowanie CPU]\n",
        "data = np.array([[8., 0., 4., 2.4],\n",
        "        [16., 6., 8., 2.5],\n",
        "        [8., 2., 8., 2.3],\n",
        "        [16., 8., 8., 3.0],\n",
        "        [32., 12., 16., 3.8]])\n",
        "\n",
        "# Nasze etykiety - ceny poszczególnych laptopów\n",
        "prices = np.array([1500., 3000., 1900., 5000., 11000.])\n",
        "\n",
        "# Szybki podgląd całości danych\n",
        "print(data)\n",
        "print(prices)"
      ],
      "execution_count": 21,
      "outputs": [
        {
          "output_type": "stream",
          "name": "stdout",
          "text": [
            "[[ 8.   0.   4.   2.4]\n",
            " [16.   6.   8.   2.5]\n",
            " [ 8.   2.   8.   2.3]\n",
            " [16.   8.   8.   3. ]\n",
            " [32.  12.  16.   3.8]]\n",
            "[ 1500.  3000.  1900.  5000. 11000.]\n"
          ]
        }
      ]
    },
    {
      "cell_type": "markdown",
      "metadata": {
        "id": "6zH5D5XcTC1P"
      },
      "source": [
        "### ***Hipoteza***\n",
        "\n",
        "Poniżej zaimplementujemy hipotezę czyli funkcję za pomocą której nasz 'model' będzie wyliczał ceny dla nowych danych, które otrzyma na wejściu.\n",
        "\n",
        "Hipoteza ma postać h(x) = a*x4 + b*x3 + c*x2 + d*x1 + e\n",
        "\n",
        "Model uczy się na danych zmieniając wartość swoich parametrów, które zawarte są w wektorze theta."
      ]
    },
    {
      "cell_type": "code",
      "metadata": {
        "id": "NVC7tfueTrzO",
        "colab": {
          "base_uri": "https://localhost:8080/"
        },
        "outputId": "c91b7618-bc2f-47c9-e596-f0f8339ad121"
      },
      "source": [
        "def hypothesis(data, theta):\n",
        "    # funkcja licząca y_pred dla każdego elementu danych (X[i])\n",
        "    vector_h = []\n",
        "    for x in data:\n",
        "        h = theta[0] * x[3] + theta[1] * x[2] + theta[2] * x[1] + theta[1] * x[0] + theta[0]\n",
        "        vector_h.append(h)\n",
        "\n",
        "    return vector_h\n",
        "\n",
        "# wektor parametrów hipotezy theta [a, b, c, d, e]\n",
        "theta = [100, 150, 200, 100]\n",
        "\n",
        "# hipoteza h(x) = a*x4 + b*x3 + c*x2 + d*x1 + e\n",
        "\n",
        "\n",
        "# obliczenie hipotezy dla każdego przykładu danych\n",
        "\n",
        "vector_h = hypothesis(data, theta)\n",
        "\n",
        "print(vector_h)"
      ],
      "execution_count": 22,
      "outputs": [
        {
          "output_type": "stream",
          "name": "stdout",
          "text": [
            "[2140.0, 5150.0, 3130.0, 5600.0, 10080.0]\n"
          ]
        }
      ]
    },
    {
      "cell_type": "markdown",
      "metadata": {
        "id": "VlF5zAYXTE4_"
      },
      "source": [
        "### ***Funkcja kosztu***\n",
        "\n",
        "Nasza funkcja kosztu to tak zwany MSE (*ang. Mean Squared Error*) czyli funkcja *błędu średniokwadratowego*.\n",
        "\n",
        "Wzór tej funkcji jest następujący:\n",
        "\n",
        " ***L(y, y_pred) = 1/n * sum((y - y_pred)^2)***"
      ]
    },
    {
      "cell_type": "code",
      "metadata": {
        "id": "GutmAvXnTsah",
        "colab": {
          "base_uri": "https://localhost:8080/"
        },
        "outputId": "60f312fb-7e8a-4f40-899a-e5de63bae6f6"
      },
      "source": [
        "def get_Loss(y, y_pred):\n",
        "    # Funckja kosztu L = 1/n * sum((y - y_pred)^2)\n",
        "    L = np.sum(np.power(y - y_pred, 2)) / y.shape[0]\n",
        "\n",
        "    return L\n",
        "\n",
        "# wyświetlamy wartość naszej funkcji kosztu\n",
        "print(get_Loss(prices, vector_h))"
      ],
      "execution_count": 23,
      "outputs": [
        {
          "output_type": "stream",
          "name": "stdout",
          "text": [
            "1550280.0\n"
          ]
        }
      ]
    },
    {
      "cell_type": "markdown",
      "metadata": {
        "id": "UqLJIeetTMav"
      },
      "source": [
        "### ***Metoda gradientu prostego***\n",
        "\n",
        "**Dla chętnych**: zaimplementowanie obliczenia gradientu dla naszej hipotezy h(x)\n"
      ]
    },
    {
      "cell_type": "code",
      "metadata": {
        "id": "Hyu6YyijF2Mi"
      },
      "source": [
        "# TODO - implementacja obliczenia gradientu hipotezy h(x)"
      ],
      "execution_count": 24,
      "outputs": []
    },
    {
      "cell_type": "markdown",
      "metadata": {
        "id": "hGrJNK7vIVkw"
      },
      "source": [
        "### ***Przykład z użyciem gotowych danych i funkcji***\n",
        "W praktyce nie ma sensu zawsze implementować powyższych funkcji na nowo. Zamiast tego korzysta się z już gotowych implementacji, dostępnych w bilbiotekach danego języka programowania.\n",
        "W tym notatniku przedstawię funkcje z biblioteki [scikit-learn](https://scikit-learn.org/stable/index.html), odpowiadające za tworzenie modeli, podział zbiorów danych czy uczenie tych modeli.\n",
        "\n",
        "Biblioteka ta udostępnia również gotowe zbiory danych, zarówno dla regresji jak i klasyfikacji, na których mozna przeprowadzać testy opracowywanych algorytmów: https://scikit-learn.org/stable/datasets/toy_dataset.html."
      ]
    },
    {
      "cell_type": "markdown",
      "metadata": {
        "id": "NYfnzh_pOMdR"
      },
      "source": [
        "### Zbiór danych\n",
        "W przypadku regresji skorzystamy ze zbioru diabetes"
      ]
    },
    {
      "cell_type": "code",
      "metadata": {
        "colab": {
          "base_uri": "https://localhost:8080/"
        },
        "id": "D2c0xl1XI8ay",
        "outputId": "ed9e5d07-9f50-476e-f3b7-c47369a5feba"
      },
      "source": [
        "from sklearn.datasets import load_diabetes\n",
        "\n",
        "# Załadujmy zbiór w celu wyświetlenia listy parametrów służących do opisu danych \n",
        "diabetes = load_diabetes()\n",
        "print(diabetes.feature_names)\n",
        "\n",
        "# W celu łatwiejszej pracy z danymi korzystamy z parametru return_X_y, który\n",
        "# zwraca nam nam dane w postaci macierzy X i wektor etykiet y\n",
        "X, y = load_diabetes(return_X_y=True)\n",
        "\n",
        "# wyświetlmy rozmiar danych, a także przykładowe wartości\n",
        "print(X.shape)\n",
        "print(y.shape)\n",
        "print(X[0])\n",
        "print(y[0])"
      ],
      "execution_count": 25,
      "outputs": [
        {
          "output_type": "stream",
          "name": "stdout",
          "text": [
            "['age', 'sex', 'bmi', 'bp', 's1', 's2', 's3', 's4', 's5', 's6']\n",
            "(442, 10)\n",
            "(442,)\n",
            "[ 0.03807591  0.05068012  0.06169621  0.02187235 -0.0442235  -0.03482076\n",
            " -0.04340085 -0.00259226  0.01990842 -0.01764613]\n",
            "151.0\n"
          ]
        }
      ]
    },
    {
      "cell_type": "markdown",
      "metadata": {
        "id": "zAGlDOM5UbCx"
      },
      "source": [
        "### Model\n",
        "Jako model wykorzystamy model SGD (*ang. Stochastic Gradient Descent*) [link](https://scikit-learn.org/stable/modules/generated/sklearn.linear_model.SGDRegressor.html) czyli model wykorzystujący odmianę metody gradientu prostego do wyliczania wartości y_pred. "
      ]
    },
    {
      "cell_type": "code",
      "metadata": {
        "colab": {
          "base_uri": "https://localhost:8080/"
        },
        "id": "kaCBYNeQUbsR",
        "outputId": "41dd68b9-314f-4236-c466-21b2daffad7e"
      },
      "source": [
        "from sklearn.linear_model import SGDRegressor\n",
        "\n",
        "model = SGDRegressor(max_iter=1000, tol=1e-3)\n",
        "# wyświetlamy utworzony model w celu podglądu parametrów\n",
        "print(model)"
      ],
      "execution_count": 26,
      "outputs": [
        {
          "output_type": "stream",
          "name": "stdout",
          "text": [
            "SGDRegressor(alpha=0.0001, average=False, early_stopping=False, epsilon=0.1,\n",
            "             eta0=0.01, fit_intercept=True, l1_ratio=0.15,\n",
            "             learning_rate='invscaling', loss='squared_loss', max_iter=1000,\n",
            "             n_iter_no_change=5, penalty='l2', power_t=0.25, random_state=None,\n",
            "             shuffle=True, tol=0.001, validation_fraction=0.1, verbose=0,\n",
            "             warm_start=False)\n"
          ]
        }
      ]
    },
    {
      "cell_type": "markdown",
      "metadata": {
        "id": "1mhr0VmkY-4_"
      },
      "source": [
        "### Train test split\n",
        "W tej komórce wykorzystamy wbudowaną funkcję [train_test_split](https://scikit-learn.org/stable/modules/generated/sklearn.model_selection.train_test_split.html) pozwalającą na automatyzację procesu podziału zbioru na dane treningowe i testowe.\n",
        "\n",
        "Do określenia skuteczności modelu wykorzystany właśnie funkcję MSE."
      ]
    },
    {
      "cell_type": "code",
      "metadata": {
        "colab": {
          "base_uri": "https://localhost:8080/"
        },
        "id": "vsDHlC6KY_gQ",
        "outputId": "121811cd-70bf-43a5-fa8c-1a83cd5a11d9"
      },
      "source": [
        "from sklearn.model_selection import train_test_split\n",
        "from sklearn.metrics import mean_squared_error\n",
        "\n",
        "# podział zbioru na zbiór treningowy i testowy\n",
        "X_train, X_test, y_train, y_test = train_test_split(X, y, test_size = 0.2, random_state=42)\n",
        "\n",
        "# trening modelu na zbiorze treningowym\n",
        "model.fit(X_train, y_train)\n",
        "\n",
        "# test modelu na zbiorze testowym\n",
        "y_pr = model.predict(X_test)\n",
        "\n",
        "print(y_test[0])\n",
        "print(y_pr[0])\n",
        "\n",
        "# obliczenie i wyświetlenie wartości funkcji kosztu\n",
        "print(mean_squared_error(y_test, y_pr))"
      ],
      "execution_count": 31,
      "outputs": [
        {
          "output_type": "stream",
          "name": "stdout",
          "text": [
            "219.0\n",
            "164.37958800306123\n",
            "3111.618609245599\n"
          ]
        },
        {
          "output_type": "stream",
          "name": "stderr",
          "text": [
            "/usr/local/lib/python3.7/dist-packages/sklearn/linear_model/_stochastic_gradient.py:1187: ConvergenceWarning: Maximum number of iteration reached before convergence. Consider increasing max_iter to improve the fit.\n",
            "  ConvergenceWarning)\n"
          ]
        }
      ]
    },
    {
      "cell_type": "markdown",
      "metadata": {
        "id": "40_oCdWcS7p6"
      },
      "source": [
        "## ***Klasyfikacja***\n",
        "Celem klasyfikacji jest z kolei predykcja wartości dyskretnych, z góry znanych i ustalonych czyli inaczej przypisanie poszczególnych elementów danych do zdefiniowanych klas."
      ]
    },
    {
      "cell_type": "markdown",
      "metadata": {
        "id": "ZSW9K9g3YBwL"
      },
      "source": [
        "### Zbiór danych\n",
        "Tym razem wykorzystamy zbiór dany [iris](https://scikit-learn.org/stable/modules/generated/sklearn.datasets.load_iris.html#sklearn.datasets.load_iris), przygotowany specjalnie dla algorytmów klasyfikacji."
      ]
    },
    {
      "cell_type": "code",
      "metadata": {
        "colab": {
          "base_uri": "https://localhost:8080/"
        },
        "id": "z104O2xlmq_a",
        "outputId": "f2200ab7-586d-4cd6-a888-583fdf5961df"
      },
      "source": [
        "# Zaimportujmy zbiór danych przeznaczony do klasyfikacji\n",
        "from sklearn.datasets import load_iris\n",
        "\n",
        "iris = load_iris()\n",
        "\n",
        "# Wyświetlmy parametry opisujące dane\n",
        "print(iris.feature_names)\n",
        "\n",
        "X, y = load_iris(return_X_y=True)\n"
      ],
      "execution_count": 37,
      "outputs": [
        {
          "output_type": "stream",
          "name": "stdout",
          "text": [
            "['sepal length (cm)', 'sepal width (cm)', 'petal length (cm)', 'petal width (cm)']\n"
          ]
        }
      ]
    },
    {
      "cell_type": "markdown",
      "metadata": {
        "id": "JwM2x8-VnMkl"
      },
      "source": [
        "### Model i Train test split\n",
        "Podobnie jak w przypadku regresji najpierw sprawdźmy "
      ]
    },
    {
      "cell_type": "code",
      "metadata": {
        "colab": {
          "base_uri": "https://localhost:8080/"
        },
        "id": "jqb1ruZlnM-i",
        "outputId": "464c75a7-c0d6-40f5-dc13-7fe0402da8d7"
      },
      "source": [
        "from sklearn.model_selection import train_test_split\n",
        "from sklearn.metrics import accuracy_score, f1_score\n",
        "from sklearn.linear_model import SGDClassifier\n",
        "\n",
        "model = SGDClassifier()\n",
        "# podział zbioru na zbiór treningowy i testowy\n",
        "# użyty zostanie parametr stratify w celu zbilansowania podziału danych ze względu na liczebność klas\n",
        "X_train, X_test, y_train, y_test = train_test_split(X, y, test_size = 0.2, random_state = 42, stratify = y)\n",
        "\n",
        "#print(X_train[1])\n",
        "#print(y_train[1])\n",
        "# trening modelu na zbiorze treningowym\n",
        "model.fit(X_train, y_train)\n",
        "\n",
        "# test modelu na zbiorze testowym\n",
        "y_pr = model.predict(X_test)\n",
        "\n",
        "print(y_test[0])\n",
        "print(y_pr[0])\n",
        "\n",
        "# obliczenie i wyświetlenie wartości funkcji kosztu\n",
        "print(accuracy_score(y_test, y_pr))\n",
        "print(f1_score(y_test, y_pr, average='micro'))"
      ],
      "execution_count": 38,
      "outputs": [
        {
          "output_type": "stream",
          "name": "stdout",
          "text": [
            "0\n",
            "0\n",
            "0.7333333333333333\n",
            "0.7333333333333333\n"
          ]
        }
      ]
    },
    {
      "cell_type": "markdown",
      "metadata": {
        "id": "R0OTOzDAF9xR"
      },
      "source": [
        "### Cross-validation learning\n",
        "\n",
        "W tym miejscu przedstawię metodę treningu typu cross-validation. W skrócie metoda ta polega na określenie na ile grup dzielimy zbiór danych treningowych (najczęściej jest to 5) i następnie jedną z tych grup wybieramy jako zbiór walidacyjny pozostałe jako zbiór treningowy.\n",
        "\n",
        "Metoda ta jest najczęściej stosowana w problemach klasyfikacyjnych.\n",
        "\n",
        "Cały proces polega na treningu modelu na zbiorze treningowym i jego walidacji (ocenie skuteczności) na zbiorze walidacyjnym.\n",
        "Proces ten jest powtarzany n razy, gdzie n oznacza na ile grup dzielimy nasze dane. W kazdym kroku wybierana jest inna grupa danych jako zbiór walidacyjny.\n",
        "Po więcej informacji zapraszam do dokumentacji: [link](https://scikit-learn.org/stable/modules/generated/sklearn.model_selection.StratifiedKFold.html#sklearn.model_selection.StratifiedKFold)"
      ]
    },
    {
      "cell_type": "code",
      "metadata": {
        "colab": {
          "base_uri": "https://localhost:8080/"
        },
        "id": "iZ7iwjicGBb3",
        "outputId": "c66e6362-cf28-4c57-c70c-1b17c7ee6540"
      },
      "source": [
        "from sklearn.model_selection import StratifiedKFold\n",
        "\n",
        "# Tworzymy obiekt klasy StratifiedKFold\n",
        "skf = StratifiedKFold(n_splits=5)\n",
        "\n",
        "# Tworzymy dwie listy na modele tworzone dla każdego kroku oraz na funkcję kosztu\n",
        "# wyliczoną na zbiorze walidacyjnym\n",
        "models = []\n",
        "f1_scores = []\n",
        "\n",
        "# Główna pętla, metoda split odpowiada za proces kross-walidacji\n",
        "for train_index, val_index in skf.split(X_train, y_train):\n",
        "    model = SGDClassifier()\n",
        "    X_tr, y_tr = X_train[train_index], y_train[train_index]\n",
        "    X_val, y_val = X_train[val_index], y_train[val_index]\n",
        "\n",
        "    # Trening modelu\n",
        "    model.fit(X_tr, y_tr)\n",
        "    # Predykcja etykiet dla danych walidacyjnych\n",
        "    y_pr = model.predict(X_val)\n",
        "\n",
        "    # Obliczenie funkcji kosztu MSE dla danego kroku\n",
        "    f1_scores.append(f1_score(y_val, y_pr, average='micro'))\n",
        "    models.append(model)\n",
        "\n",
        "# Pobranie kroku, dla którego wartość funkcji kosztu była najmniejsza\n",
        "best_f1_idx = np.argmax(f1_scores)\n",
        "\n",
        "# Wybór tego modelu i błędu\n",
        "best_f1_score = f1_scores[best_f1_idx]\n",
        "best_model = models[best_f1_idx]\n",
        "\n",
        "print(\"\\n\")\n",
        "print(\"\\n\")\n",
        "\n",
        "# Test najlepszego modelu na zbiorze testowym\n",
        "y_pr = best_model.predict(X_test)\n",
        "test_f1_score = f1_score(y_test, y_pr, average='micro')\n",
        "\n",
        "# obliczenie i wyświetlenie wartości funkcji kosztu\n",
        "print(\"Najwyższy f1_score modelu na zbiorze walidacyjnym {}\", best_f1_score)\n",
        "print(\"F1_score modelu na zbiorze testowym {}\", test_f1_score)    "
      ],
      "execution_count": 40,
      "outputs": [
        {
          "output_type": "stream",
          "name": "stdout",
          "text": [
            "\n",
            "\n",
            "\n",
            "\n",
            "Najwyższy f1_score modelu na zbiorze walidacyjnym {} 0.9166666666666666\n",
            "F1_score modelu na zbiorze testowym {} 0.9666666666666667\n"
          ]
        }
      ]
    },
    {
      "cell_type": "markdown",
      "metadata": {
        "id": "_Pi9PWN7S5A8"
      },
      "source": [
        "### Hipoteza - funkcja logiczna"
      ]
    },
    {
      "cell_type": "code",
      "metadata": {
        "id": "okrw4XuoTjUJ"
      },
      "source": [
        "import matplotlib.pyplot as plt\n",
        "import numpy as np\n",
        "import math"
      ],
      "execution_count": 3,
      "outputs": []
    },
    {
      "cell_type": "markdown",
      "metadata": {
        "id": "YpU1Gek_9NS8"
      },
      "source": [
        "### Funkcja sigmoid"
      ]
    },
    {
      "cell_type": "code",
      "metadata": {
        "colab": {
          "base_uri": "https://localhost:8080/",
          "height": 279
        },
        "id": "YnTiVLcC9Lfm",
        "outputId": "6ce8f5eb-10b4-46c3-82a4-babe5ac78417"
      },
      "source": [
        "x = np.linspace(-20, 20, 50)\n",
        "z = 1/(1 + np.exp(-x))\n",
        "  \n",
        "plt.plot(x, z)\n",
        "plt.xlabel(\"x\")\n",
        "plt.ylabel(\"Sigmoid(X)\")\n",
        "  \n",
        "plt.show()"
      ],
      "execution_count": 4,
      "outputs": [
        {
          "output_type": "display_data",
          "data": {
            "image/png": "[encoded data removed]",
            "text/plain": [
              "<Figure size 432x288 with 1 Axes>"
            ]
          },
          "metadata": {
            "needs_background": "light"
          }
        }
      ]
    },
    {
      "cell_type": "markdown",
      "metadata": {
        "id": "gjbnDCsk9LJk"
      },
      "source": [
        "### Funkcja tanh"
      ]
    },
    {
      "cell_type": "code",
      "metadata": {
        "colab": {
          "base_uri": "https://localhost:8080/",
          "height": 295
        },
        "id": "aRjvJFfl9h3g",
        "outputId": "e30fe9f0-2c2d-41fe-b0a1-bfc0b752191c"
      },
      "source": [
        "x = np.linspace(-np.pi, np.pi, 50)\n",
        "# Tutaj wykorzystamy gotową funkcję tanh z biblioteki numpy\n",
        "y = np.tanh(x)\n",
        "  \n",
        "plt.plot(x, y, color = 'blue')\n",
        "plt.title(\"numpy.tanh()\")\n",
        "plt.xlabel(\"X\")\n",
        "plt.ylabel(\"Y\")\n",
        "plt.show()"
      ],
      "execution_count": 8,
      "outputs": [
        {
          "output_type": "display_data",
          "data": {
            "image/png": "[encoded data removed]",
            "text/plain": [
              "<Figure size 432x288 with 1 Axes>"
            ]
          },
          "metadata": {
            "needs_background": "light"
          }
        }
      ]
    },
    {
      "cell_type": "markdown",
      "metadata": {
        "id": "VojXgyZAXM69"
      },
      "source": [
        "# **Co dalej?**\n",
        "\n",
        "Zapraszam do eksperymentowania z powyższym kodem:\n",
        "\n",
        "*   zmiany zbiorów danych\n",
        "*   zmiany parametrów\n",
        "*   zapoznania się z dokumentacją\n",
        "\n",
        "\n",
        "\n"
      ]
    }
  ]
}
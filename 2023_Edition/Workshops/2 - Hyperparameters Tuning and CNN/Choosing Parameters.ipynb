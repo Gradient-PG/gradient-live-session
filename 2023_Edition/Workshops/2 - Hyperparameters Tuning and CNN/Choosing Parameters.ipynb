{
 "cells": [
  {
   "attachments": {},
   "cell_type": "markdown",
   "id": "latest-joshua",
   "metadata": {},
   "source": [
    "# Advice for Applying Machine Learning"
   ]
  },
  {
   "cell_type": "code",
   "execution_count": null,
   "id": "transsexual-worry",
   "metadata": {},
   "outputs": [],
   "source": [
    "from sklearn.model_selection import train_test_split\n",
    "from sklearn.metrics import mean_squared_error\n",
    "import matplotlib.pyplot as plt\n",
    "import numpy as np\n",
    "from utils import generate_data, LinearModel\n",
    "\n",
    "import warnings\n",
    "warnings.filterwarnings(\"ignore\")"
   ]
  },
  {
   "attachments": {},
   "cell_type": "markdown",
   "id": "understanding-comment",
   "metadata": {},
   "source": [
    "## Generating data"
   ]
  },
  {
   "cell_type": "code",
   "execution_count": null,
   "id": "separated-grace",
   "metadata": {},
   "outputs": [],
   "source": [
    "X, y, X_ideal, y_ideal = generate_data(18, 3, 0.7)"
   ]
  },
  {
   "attachments": {},
   "cell_type": "markdown",
   "id": "after-anatomy",
   "metadata": {},
   "source": [
    "## Plotting data"
   ]
  },
  {
   "cell_type": "code",
   "execution_count": null,
   "id": "narrow-gateway",
   "metadata": {},
   "outputs": [],
   "source": [
    "plt.scatter(X, y, label=\"Data\")\n",
    "plt.plot(X_ideal, y_ideal, 'r', label=\"Ideal\")\n",
    "plt.legend()\n",
    "plt.show()"
   ]
  },
  {
   "attachments": {},
   "cell_type": "markdown",
   "id": "about-adrian",
   "metadata": {},
   "source": [
    "## Splitting dataset"
   ]
  },
  {
   "cell_type": "code",
   "execution_count": null,
   "id": "threatened-macro",
   "metadata": {},
   "outputs": [],
   "source": [
    "X_train, X_test, y_train, y_test = train_test_split(X,y,test_size=0.33, random_state=1)\n",
    "print(\"X_train.shape\", X_train.shape, \"y_train.shape\", y_train.shape)\n",
    "print(\"X_test.shape\", X_test.shape, \"y_test.shape\", y_test.shape)"
   ]
  },
  {
   "cell_type": "code",
   "execution_count": null,
   "id": "adolescent-split",
   "metadata": {},
   "outputs": [],
   "source": [
    "plt.scatter(X_train, y_train, label=\"Training\")\n",
    "plt.scatter(X_test, y_test, label=\"Test\")\n",
    "plt.legend()\n",
    "plt.show()"
   ]
  },
  {
   "attachments": {},
   "cell_type": "markdown",
   "id": "adverse-english",
   "metadata": {},
   "source": [
    "# Compare performance on training and test data"
   ]
  },
  {
   "cell_type": "code",
   "execution_count": null,
   "id": "informal-layout",
   "metadata": {},
   "outputs": [],
   "source": [
    "# create a model in sklearn, train on training data\n",
    "degree = 10\n",
    "\n",
    "model = LinearModel(degree)\n",
    "\n",
    "# Training\n",
    "model.fit(X_train, y_train)\n",
    "\n",
    "# MSE\n",
    "\n",
    "y_hat = model.predict(X_train)\n",
    "mse_train = mean_squared_error(y_train, y_hat)\n",
    "\n",
    "print(f\"MSE X Train: {mse_train}\")\n",
    "\n",
    "y_hat = model.predict(X_test)\n",
    "mse_test = mean_squared_error(y_test, y_hat)\n",
    "\n",
    "print(f\"MSE X Train: {mse_test}\")"
   ]
  },
  {
   "attachments": {},
   "cell_type": "markdown",
   "id": "wicked-banner",
   "metadata": {},
   "source": [
    "## Plotting"
   ]
  },
  {
   "cell_type": "code",
   "execution_count": null,
   "id": "settled-piano",
   "metadata": {},
   "outputs": [],
   "source": [
    "plt.plot(X_ideal, model.predict(X_ideal), label=\"degree=10\")\n",
    "plt.scatter(X_test, y_test,color='r',label=\"Test\")\n",
    "plt.scatter(X_train, y_train, color='b',label=\"Train\")\n",
    "plt.plot(X_ideal, y_ideal, label=\"ideal\")\n",
    "plt.legend()\n",
    "plt.show()"
   ]
  },
  {
   "attachments": {},
   "cell_type": "markdown",
   "id": "wooden-saturn",
   "metadata": {},
   "source": [
    "# How to choose the right degree?\n",
    "\n",
    "| data             | % of total | Description |\n",
    "|------------------|:----------:|:---------|\n",
    "| training         | 60         | Data used to tune model parameters $w$ and $b$ in training or fitting |\n",
    "| cross-validation | 20         | Data used to tune other model parameters like degree of polynomial, regularization or the architecture of a neural network.|\n",
    "| test             | 20         | Data used to test the model after tuning to gauge performance on new data |"
   ]
  },
  {
   "cell_type": "code",
   "execution_count": null,
   "id": "mexican-union",
   "metadata": {},
   "outputs": [],
   "source": [
    "# Generate  data\n",
    "X,y, X_ideal,y_ideal = generate_data(40, 5, 0.7)\n",
    "print(\"X.shape\", X.shape, \"y.shape\", y.shape)\n",
    "\n",
    "#split the data using sklearn routine \n",
    "X_train, X_, y_train, y_ = train_test_split(X,y,test_size=0.40, random_state=1)\n",
    "X_cv, X_test, y_cv, y_test = train_test_split(X_,y_,test_size=0.50, random_state=1)\n",
    "print(\"X_train.shape\", X_train.shape, \"y_train.shape\", y_train.shape)\n",
    "print(\"X_cv.shape\", X_cv.shape, \"y_cv.shape\", y_cv.shape)\n",
    "print(\"X_test.shape\", X_test.shape, \"y_test.shape\", y_test.shape)"
   ]
  },
  {
   "cell_type": "code",
   "execution_count": null,
   "id": "demanding-segment",
   "metadata": {},
   "outputs": [],
   "source": [
    "plt.scatter(X_train, y_train, color = \"red\",           label=\"train\")\n",
    "plt.scatter(X_cv, y_cv,       color = \"blue\", label=\"cv\")\n",
    "plt.scatter(X_test, y_test,   color = \"orange\",   label=\"test\")\n",
    "plt.legend(loc='upper left')\n",
    "plt.show()"
   ]
  },
  {
   "attachments": {},
   "cell_type": "markdown",
   "id": "respected-publication",
   "metadata": {},
   "source": [
    "# Finding optimal degree"
   ]
  },
  {
   "cell_type": "code",
   "execution_count": null,
   "id": "necessary-period",
   "metadata": {},
   "outputs": [],
   "source": [
    "max_degree = 11\n",
    "err_train = np.zeros(max_degree)    \n",
    "err_cv = np.zeros(max_degree)      \n",
    "\n",
    "y_pred = np.zeros((max_degree, len(X_ideal)))\n",
    "\n",
    "for degree in range(1, max_degree):\n",
    "\n",
    "    model = LinearModel(degree)\n",
    "    model.fit(X_train, y_train)\n",
    "    \n",
    "    y_hat = model.predict(X_train)\n",
    "    err_train[degree] = mean_squared_error(y_train, y_hat)\n",
    "\n",
    "    y_hat = model.predict(X_cv)\n",
    "    err_cv[degree] = mean_squared_error(y_cv, y_hat)\n",
    "    \n",
    "    # Just for plotting results\n",
    "    \n",
    "    y_hat = model.predict(X_ideal)\n",
    "    y_pred[degree] = y_hat\n",
    "\n",
    "optimal_degree = np.argmin(err_cv[1:])+1\n",
    "print(optimal_degree)"
   ]
  },
  {
   "cell_type": "code",
   "execution_count": null,
   "id": "general-slide",
   "metadata": {},
   "outputs": [],
   "source": [
    "plt.plot(np.arange(1,max_degree), err_train[1:])\n",
    "plt.scatter(np.arange(1,max_degree), err_train[1:])\n",
    "plt.plot(np.arange(1,max_degree), err_cv[1:])\n",
    "plt.scatter(np.arange(1,max_degree), err_cv[1:])\n",
    "plt.xlabel(\"Degree\")\n",
    "plt.ylabel(\"MSE\")\n",
    "plt.show()"
   ]
  },
  {
   "cell_type": "code",
   "execution_count": null,
   "id": "personal-uniform",
   "metadata": {},
   "outputs": [],
   "source": [
    "# plt.plot(X_ideal, y_pred.T)\n",
    "plt.plot(X_ideal, y_pred[optimal_degree])\n",
    "plt.scatter(X_train, y_train)\n",
    "plt.scatter(X_cv, y_cv)\n",
    "plt.show()"
   ]
  },
  {
   "attachments": {},
   "cell_type": "markdown",
   "id": "green-browser",
   "metadata": {},
   "source": [
    "# Tuning in lambda\n",
    "\n",
    "$$ J(\\mathbf{w},b) = \n",
    "            \\frac{1}{2m}\\sum_{i=0}^{m-1} ( f_{\\mathbf{w},b}(\\mathbf{x}^{(i)}) - y^{(i)})^2 + \\frac{\\lambda}{2m} \\sum_{j=0}^{n-1} (\\mathbf{w}_j)^2\n",
    "$$\n"
   ]
  },
  {
   "cell_type": "code",
   "execution_count": null,
   "id": "contrary-lawrence",
   "metadata": {},
   "outputs": [],
   "source": [
    "lambda_range = np.array([0.0, 1e-6, 1e-5, 1e-4,1e-3,1e-2, 1e-1,1,10,100])\n",
    "num_steps = len(lambda_range)\n",
    "degree = 10\n",
    "\n",
    "err_train = np.zeros(num_steps)    \n",
    "err_cv = np.zeros(num_steps)\n",
    "\n",
    "y_pred = np.zeros((num_steps, len(X_ideal)))\n",
    "\n",
    "for i in range(num_steps):\n",
    "    lambda_= lambda_range[i]\n",
    "\n",
    "    model = LinearModel(degree, lambda_)\n",
    "    model.fit(X_train, y_train)\n",
    "    \n",
    "    y_hat = model.predict(X_train)\n",
    "    err_train[i] = mean_squared_error(y_hat, y_train)\n",
    "\n",
    "    y_hat = model.predict(X_cv)\n",
    "    err_cv[i] = mean_squared_error(y_hat, y_cv)\n",
    "\n",
    "    # Just for plotting results\n",
    "\n",
    "    y_hat = model.predict(X_ideal)\n",
    "    y_pred[i] = y_hat\n",
    "    \n",
    "    \n",
    "optimal_reg_idx = np.argmin(err_cv) \n",
    "print(lambda_range[optimal_reg_idx])"
   ]
  },
  {
   "cell_type": "code",
   "execution_count": null,
   "id": "engaged-reduction",
   "metadata": {},
   "outputs": [],
   "source": [
    "# plt.plot(X_ideal, y_pred.T)\n",
    "plt.plot(X_ideal, y_pred[optimal_reg_idx], color='r')\n",
    "plt.scatter(X_train, y_train)\n",
    "plt.scatter(X_cv, y_cv)\n",
    "plt.show()"
   ]
  },
  {
   "cell_type": "code",
   "execution_count": null,
   "id": "positive-singapore",
   "metadata": {},
   "outputs": [],
   "source": [
    "x = np.arange(num_steps)\n",
    "plt.plot(x, err_cv, label=\"cv\")\n",
    "plt.plot(x, err_train, label=\"train\")\n",
    "plt.xticks(x, lambda_range)\n",
    "\n",
    "plt.scatter(x, err_cv)\n",
    "plt.scatter(x, err_train)\n",
    "plt.legend()\n",
    "\n",
    "plt.xlabel(\"Lambda\")\n",
    "plt.ylabel(\"MSE\")\n",
    "\n",
    "plt.show()"
   ]
  }
 ],
 "metadata": {
  "kernelspec": {
   "display_name": "tensorflow",
   "language": "python",
   "name": "tensorflow"
  },
  "language_info": {
   "codemirror_mode": {
    "name": "ipython",
    "version": 3
   },
   "file_extension": ".py",
   "mimetype": "text/x-python",
   "name": "python",
   "nbconvert_exporter": "python",
   "pygments_lexer": "ipython3",
   "version": "3.9.16"
  }
 },
 "nbformat": 4,
 "nbformat_minor": 5
}

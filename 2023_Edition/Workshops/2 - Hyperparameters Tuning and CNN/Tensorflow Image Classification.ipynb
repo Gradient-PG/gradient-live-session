{
 "cells": [
  {
   "attachments": {},
   "cell_type": "markdown",
   "id": "double-thunder",
   "metadata": {},
   "source": [
    "# Image classification in tensorflow"
   ]
  },
  {
   "attachments": {},
   "cell_type": "markdown",
   "id": "southwest-heaven",
   "metadata": {},
   "source": [
    "## Imports"
   ]
  },
  {
   "cell_type": "code",
   "execution_count": null,
   "id": "bulgarian-sperm",
   "metadata": {},
   "outputs": [],
   "source": [
    "import tensorflow as tf\n",
    "import matplotlib.pyplot as plt\n",
    "import numpy as np\n",
    "from utils import plot_data_with_predictions, plot_data\n",
    "import datetime\n",
    "\n",
    "import warnings\n",
    "warnings.filterwarnings(\"ignore\")"
   ]
  },
  {
   "attachments": {},
   "cell_type": "markdown",
   "id": "artistic-spain",
   "metadata": {},
   "source": [
    "## Loading dataset"
   ]
  },
  {
   "cell_type": "code",
   "execution_count": null,
   "id": "pretty-trunk",
   "metadata": {},
   "outputs": [],
   "source": [
    "(x_train, y_train), (x_test, y_test) = tf.keras.datasets.mnist.load_data()\n",
    "\n",
    "# Normalizing data from 0...255 to 0...1\n",
    "\n",
    "(x_train, x_test) = (x_train/255, x_test/255) \n",
    "\n",
    "# Reshaping\n",
    "\n",
    "img_size = x_train.shape[1]\n",
    "\n",
    "print(\"x_train shape: \", x_train.shape)\n",
    "print(f\"Amount of training examples: {x_train.shape[0]}\")\n",
    "print(f\"Amount of test examples: {x_test.shape[0]}\")\n",
    "print(f\"Images sizes: {x_train.shape[1]}x{x_train.shape[2]}\")"
   ]
  },
  {
   "attachments": {},
   "cell_type": "markdown",
   "id": "vocal-surfing",
   "metadata": {},
   "source": [
    "# Visualizing data"
   ]
  },
  {
   "cell_type": "code",
   "execution_count": null,
   "id": "floppy-office",
   "metadata": {},
   "outputs": [],
   "source": [
    "plot_data(x_train, y_train, 10)"
   ]
  },
  {
   "attachments": {},
   "cell_type": "markdown",
   "id": "conceptual-fossil",
   "metadata": {},
   "source": [
    "# Initialize model"
   ]
  },
  {
   "cell_type": "code",
   "execution_count": null,
   "id": "regulated-error",
   "metadata": {},
   "outputs": [],
   "source": [
    "from tensorflow.keras.layers import Flatten, Dense\n",
    "from tensorflow.keras.models import Sequential\n",
    "\n",
    "model = Sequential([\n",
    "    Flatten(input_shape=(28, 28), name='input_layer'),\n",
    "    Dense(128, activation='relu', name='layer_dense'),\n",
    "    Dense(10, activation='softmax', name='output_layer')\n",
    "])\n",
    "\n",
    "optimizer = tf.keras.optimizers.Adam()\n",
    "loss = tf.keras.losses.SparseCategoricalCrossentropy()\n",
    "\n",
    "model.compile(optimizer=optimizer,\n",
    "              loss=loss,\n",
    "              metrics=[tf.keras.metrics.SparseCategoricalAccuracy()])\n",
    "\n",
    "model.summary()"
   ]
  },
  {
   "cell_type": "code",
   "execution_count": null,
   "id": "emerging-blame",
   "metadata": {},
   "outputs": [],
   "source": [
    "model.fit(x_train, y_train, epochs=5, batch_size=32, validation_data=(x_test, y_test), shuffle=True)"
   ]
  },
  {
   "attachments": {},
   "cell_type": "markdown",
   "id": "varied-belgium",
   "metadata": {},
   "source": [
    "# Predictions on test data"
   ]
  },
  {
   "cell_type": "code",
   "execution_count": null,
   "id": "neither-recruitment",
   "metadata": {},
   "outputs": [],
   "source": [
    "print(\"Predicting\")\n",
    "predictions = model.predict(x_test)\n",
    "\n",
    "sample_prediction = predictions[0]\n",
    "correct_label = y_test[0]\n",
    "\n",
    "print()\n",
    "print(f\"Prediction: {sample_prediction}\\n\")\n",
    "print(f\"Correct label: {correct_label}\")\n",
    "print(f\"Max argument of sample: {np.argmax(sample_prediction)}\")"
   ]
  },
  {
   "attachments": {},
   "cell_type": "markdown",
   "id": "statewide-lexington",
   "metadata": {},
   "source": [
    "# Visualize predictions"
   ]
  },
  {
   "cell_type": "code",
   "execution_count": null,
   "id": "adjusted-saint",
   "metadata": {},
   "outputs": [],
   "source": [
    "plot_data_with_predictions(x_test, y_test, predictions, 10)"
   ]
  },
  {
   "attachments": {},
   "cell_type": "markdown",
   "id": "union-christianity",
   "metadata": {},
   "source": [
    "# Check bad predictions"
   ]
  },
  {
   "cell_type": "code",
   "execution_count": null,
   "id": "spoken-checklist",
   "metadata": {},
   "outputs": [],
   "source": [
    "predicted_labels = np.argmax(predictions, axis=1)\n",
    "bad_indexes = predicted_labels != y_test\n",
    "\n",
    "wrong_x_test = x_test[bad_indexes]\n",
    "wrong_y_test = y_test[bad_indexes]\n",
    "wrong_predictions = predictions[bad_indexes]\n",
    "\n",
    "plot_data_with_predictions(wrong_x_test, wrong_y_test, wrong_predictions, 10)"
   ]
  },
  {
   "attachments": {},
   "cell_type": "markdown",
   "id": "twelve-cleveland",
   "metadata": {},
   "source": [
    "# Tensorboard"
   ]
  },
  {
   "cell_type": "code",
   "execution_count": null,
   "id": "developed-davis",
   "metadata": {},
   "outputs": [],
   "source": [
    "log_dir = \"logs/fit/\" + datetime.datetime.now().strftime(\"%Y%m%d-%H%M%S\")\n",
    "tensorboard_callback = tf.keras.callbacks.TensorBoard(log_dir=log_dir, histogram_freq=1)\n",
    "\n",
    "model.fit(x_train, y_train, epochs=5, validation_data=(x_test, y_test), callbacks=[tensorboard_callback])"
   ]
  },
  {
   "attachments": {},
   "cell_type": "markdown",
   "id": "purple-movie",
   "metadata": {},
   "source": [
    "# Additional resources"
   ]
  },
  {
   "attachments": {},
   "cell_type": "markdown",
   "id": "supreme-offering",
   "metadata": {},
   "source": [
    "## Tensorflow Neural Network Playground\n",
    "\n",
    "[https://playground.tensorflow.org](https://playground.tensorflow.org)\n",
    "\n",
    "![Tensorflow Neural Network Playground](assets/tf_playground.png)\n"
   ]
  },
  {
   "attachments": {},
   "cell_type": "markdown",
   "id": "fabulous-attempt",
   "metadata": {},
   "source": [
    "## 3b1b\n",
    "\n",
    "[Deep learning YouTube playlist](https://www.youtube.com/watch?v=aircAruvnKk&list=PLZHQObOWTQDNU6R1_67000Dx_ZCJB-3pi)"
   ]
  },
  {
   "attachments": {},
   "cell_type": "markdown",
   "id": "celtic-physiology",
   "metadata": {},
   "source": [
    "# Neural network visualizations\n",
    "\n",
    "https://adamharley.com/nn_vis/\n",
    "\n",
    "![NN Visualization](assets/nnvis.png)"
   ]
  }
 ],
 "metadata": {
  "kernelspec": {
   "display_name": "tensorflow",
   "language": "python",
   "name": "tensorflow"
  },
  "language_info": {
   "codemirror_mode": {
    "name": "ipython",
    "version": 3
   },
   "file_extension": ".py",
   "mimetype": "text/x-python",
   "name": "python",
   "nbconvert_exporter": "python",
   "pygments_lexer": "ipython3",
   "version": "3.9.16"
  }
 },
 "nbformat": 4,
 "nbformat_minor": 5
}

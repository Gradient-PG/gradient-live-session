{
  "cells": [
    {
      "cell_type": "markdown",
      "metadata": {
        "id": "Mh6UJUk--i7o"
      },
      "source": [
        "# Importowane biblioteki\n",
        "\n",
        "torch - główna biblioteka projektu znanego jako PyTorch, obecnie jedna z najpopularniejszych bibliotek do Uczenia Głębokiego\n",
        "\n",
        "torch.nn - moduł z biblioteki torch zawierający klasy (funkcje) odpowiadające za implementację wszystkich bloków funkcjonalnych sieci neuronowych takich jak warstwy, funkcje aktywacyjne czy funkcje kosztu.\n",
        "\n",
        "torch.optim - moduł biblioteki torch zawierający implementację optymalizatorów takich jak SGD, Ada czy Adam.\n",
        "\n",
        "torchvision - inna z bibliotek projektu PyTorch, zawierająca popularne datasety, modele czy transormacje z dziedziny wizji komputerowej.\n",
        "\n",
        "torch.utils.data.Dataloader - klasa, która odpowiada za załadowanie zbioru danych w celu przeprowadzenia treningu modeli\n",
        "\n",
        "matplotlib - biblioteka umożliwiająca wizualizację danych"
      ]
    },
    {
      "cell_type": "code",
      "execution_count": null,
      "metadata": {
        "id": "H5zUdRo_agIu"
      },
      "outputs": [],
      "source": [
        "import torch\n",
        "import torch.nn as nn\n",
        "import torch.optim as optim\n",
        "import torchvision\n",
        "import torchvision.datasets as datasets\n",
        "import torchvision.transforms as tf\n",
        "from torch.utils.data import DataLoader\n",
        "import matplotlib.pyplot as plt"
      ]
    },
    {
      "cell_type": "markdown",
      "metadata": {
        "id": "L9qSEZWy-hp8"
      },
      "source": [
        "# Definiowanie własnego modelu\n",
        "\n",
        "PyTorch umożliwia oczywiście definicję swoich własnych modeli. Zostały do tego przygotowane funkcje z wyżej wymienionych modułów.\n",
        "\n",
        "W celu zdefiniowania własnego modelu sieci neuronowej należy się trzymać kilku reguł\n",
        "\n",
        "* Klasa naszego modelu musi dziedziczyć po klasie abstrakcyjnej `nn.Module`\n",
        "* W tym celu klasa musi implementować metody abstrakcyjne `__init__` oraz `forward`\n",
        "* Na początku metody `__init__` wywołujemy konstruktor \"rodzica\".\n",
        "\n",
        "Dla przykładu w poniższej komórce zdefiniujemy prostą sieć neuronową.\n",
        "\n"
      ]
    },
    {
      "cell_type": "code",
      "execution_count": null,
      "metadata": {
        "id": "dSyvBxZNbbze"
      },
      "outputs": [],
      "source": [
        "class ExampleModel(nn.Module):\n",
        "  def __init__(self):\n",
        "    super().__init__()\n",
        "\n",
        "    self.layer1 = nn.Linear(28*28, 64)\n",
        "    self.layer2 = nn.Linear(64, 32)\n",
        "    self.layer3 = nn.Linear(32, 10)\n",
        "    self.activation = nn.ReLU()\n",
        "    self.Softmax = nn.Softmax(dim=0)\n",
        "\n",
        "  def forward(self, x):\n",
        "    out = x.view(-1, 28*28)\n",
        "    out = self.activation(self.layer1(out))\n",
        "    out = self.activation(self.layer2(out))\n",
        "    out = self.Softmax(self.layer3(out))\n",
        "    return out"
      ]
    },
    {
      "cell_type": "markdown",
      "metadata": {
        "id": "Pgo9jFEGPqG7"
      },
      "source": [
        "Powyższy model jest typowym przykładem sieci typu Feed Forward, nazywanym również Multilayer Perceptron (MLP).\n",
        "\n",
        "Zaimplementowana przez nas sieć składa się z 3 warst liniowych:\n",
        "* warstwy wejściowej\n",
        "* warstwy ukrytej\n",
        "* warstwy wyjściowej\n",
        "\n",
        "Pierwsze dwie warstwy aktywowane są za pomocą funkcji ReLu, natomiast warstwa wyjściowa korzysta z funkcji Softmax.\n",
        "Zgodnie z zasadą sieci MLP, rozmiar danych wejściowych do warstwy **L** musi być równy rozmiarowi warstwy wyjściowej **L - 1** np.\n",
        "\n",
        "```\n",
        "    self.layer1 = nn.Linear(28*28, 64)\n",
        "    self.layer2 = nn.Linear(64, 32)\n",
        "```"
      ]
    },
    {
      "cell_type": "markdown",
      "metadata": {
        "id": "i6DSXPn1PqG8"
      },
      "source": [
        "### Funkcja aktywacji ReLu\n",
        "\n",
        "\n",
        "Funkcja ReLu obliczana jest zgodnie ze wzorem\n",
        "\n",
        "$$\n",
        "    ReLu(x) = max(x, 0)\n",
        "$$\n",
        "\n",
        "i jej celem jest zapewnienie, że pochodna liczona przez metodę Gradientu Prostego będzie przyjmowała 2 wartości: 0 i 1.\n",
        "Pozwala to na zapobieżenie zjawisku zanikających gradientów."
      ]
    },
    {
      "cell_type": "markdown",
      "metadata": {
        "id": "OBR7Oa8DPqG8"
      },
      "source": [
        "### Funkcja Softmax\n",
        "\n",
        "Celem funkcji **Softmax** jest zapewnienie, aby wartości podanego wektora sumowały się do jedności."
      ]
    },
    {
      "cell_type": "markdown",
      "metadata": {
        "id": "RLJgdw6hPqG8"
      },
      "source": [
        "Wracając do kodu:\n",
        "\n",
        "W konstruktorze klasy `__init__` definiowana jest architektura sieci:\n",
        "```\n",
        "    self.layer1 = nn.Linear(28*28, 64)\n",
        "    self.layer2 = nn.Linear(64, 32)\n",
        "    self.layer3 = nn.Linear(32, 10)\n",
        "    self.activation = nn.ReLU()\n",
        "    self.Softmax = nn.Softmax(dim=0)\n",
        "```\n",
        "\n",
        "natomiast w funkcji `forward()` implementowany jest przepływ danych przez sieć."
      ]
    },
    {
      "cell_type": "markdown",
      "metadata": {
        "id": "prCWK7saPqG9"
      },
      "source": [
        "W poniższym kodzie możemy zauważyć inny sposób definiowania sieci neuronowej. W tym celu wykorzystana została klasa `Sequential()` która odpowiada za implementację tzw. mdoelu sekwencyjnego, czyli takiego, w którym przepływ danych może się odbywać jedynie według zdefiniowanej w konstruktorze sekwencji."
      ]
    },
    {
      "cell_type": "code",
      "execution_count": null,
      "metadata": {
        "id": "RkxAV8WTPqG9"
      },
      "outputs": [],
      "source": [
        "class ExampleModel2(nn.Module):\n",
        "  def __init__(self):\n",
        "    super().__init__()\n",
        "    self.net = nn.Sequential(\n",
        "        nn.Linear(28*28, 128),\n",
        "        nn.ReLU(),\n",
        "        nn.Linear(128, 64),\n",
        "        nn.ReLU(),\n",
        "        nn.Linear(64, 10),\n",
        "        nn.Softmax()\n",
        "    )\n",
        "\n",
        "  def forward(self, x):\n",
        "    out = x.view(-1, 28*28)\n",
        "    return self.net(out)\n"
      ]
    },
    {
      "cell_type": "markdown",
      "metadata": {
        "id": "INSxBTJwF8H3"
      },
      "source": [
        "# Hiperparametry\n",
        "\n",
        "Do szybszego uczenia się modelu stosujemy parametry takie jak \"szybkość dostosywania wag\".\n",
        "\n",
        "Proces treningu modelu sieci neuronowej jest definiowany za pomocą tzw. hiperparametrów.\n",
        "\n",
        "Do hiperparametrów zaliczamy takie zmienne jak:\n",
        "- wielkość kroku uczenia się *(ang. learning rate)*\n",
        "- wielkość batcha, czyli tzw. paczki danych*\n",
        "- ilość epok treningu, czyli kolejnych iteracji po zbiorze treningowym\n",
        "- jak mogą zmieniać się wagi, na przykład, że nie mogą przekraczać wyznaczonej wartości\n",
        "- rozmiar wyjściowego obrazu\n",
        "\n",
        "Zestaw hiperparametrów będzie się różnić w zależności od trenowanego modelu, ale najcześciej występującymu są właśnie wielkość kroku uczenia się, rozmiar batcha i liczba epok treningu.\n",
        "\n",
        "<small>**paczka (batch) to zestaw danych wejściowych które zostaną wprowadzone na wejście do modelu/sieci neuronowej, rozmiar batcha oznacza ile danych wejściowych dostanie przetworzonych zanim model zaktualizuje wagi*</small>"
      ]
    },
    {
      "cell_type": "code",
      "execution_count": null,
      "metadata": {
        "id": "4w2jkToqdRcp"
      },
      "outputs": [],
      "source": [
        "learning_rate = 1e-2\n",
        "batch_size = 128\n",
        "num_epochs = 20"
      ]
    },
    {
      "cell_type": "markdown",
      "metadata": {
        "id": "b3J0ehN5HTHE"
      },
      "source": [
        "# Inicjalizacja modelu\n",
        "\n",
        "Zanim zaczniemy trening musimy określić na jakim urządzeniu będą realizowane obliczenia. Możemy wybrać jedną z dwóch opcji - trenować model za pomocą naszej jednostki GPU (ang. graphics processing unit) potocznie nazywaną kartą graficzną albo na wykonywać obliczenia za pomocą CPU (ang. central processing unit). Do obsługi karty graficznej potrzebny jest sterownik CUDA (ang. Compute Unified Device Architecture) jeśli korzysta z kart firmy NVIDIA lub ROCm (ang. Radeon Open Compute platforM) w przypadku sprzętu firmy AMD.\n",
        "\n",
        "\n",
        "Pierwsza linijka kodu sprawdza czy oprogramowanie cuda jest dostępne i można go używać, a jeżeli nie, to wykorzystywany jest CPU.\n",
        "\n",
        "W następnej linicje kodu tworzony jest obiekt naszej klasy modelu i lokowany jest on naszym urządzeniu.\n",
        "\n",
        "W kolejnych dwóch linijkach ustalamy sposób liczenia funkcji straty oraz algorytm optymalizacji wag modelu.\n",
        "\n",
        "(Kilka słów tłumaczących jakie funkcje strat służą do jakich modeli oraz czym mogą się różnić poszczególne optymalizatory)\n",
        "\n",
        "\n",
        "Przykładowe funkcje strat i ich użycia:\n",
        "- MSE (mean square error) - używane do regresji liniowej\n",
        "$$\n",
        "MSE = \\frac{1}{n} ∑_{i=1}^{n}(y_i - ŷ_i)^2\n",
        "$$\n",
        "\n",
        "- L1 loss (mean absolute error) - używane do regresji liniowej\n",
        "\n",
        "$$\n",
        "MAE = \\frac{1}{n} ∑_{i=1}^{n}|y_i - ŷ_i|\n",
        "$$\n",
        "\n",
        "- cross entropy loss - używane do klasyfikacji (dwie klasy lub wiele klas)\n",
        "\n",
        "$$\n",
        "BinaryCrossEntropyLoss = -\\frac{1}{n}∑_{i=1}^{n}(log(ŷ_i) + (1 - y_i)log(1-ŷ_i))\n",
        "$$\n",
        "\n",
        "$$\n",
        "CrossEntropyLoss = -\\frac{1}{n}∑_{i=1}^{n}(y_i * log(ŷ_i))\n",
        "$$\n",
        "\n",
        "Optimizery:\n",
        "\n",
        "- SGD (Stochastic gradient descent) - aktualizuje wagi sieci na podstawie wyliczonego gradientu i learning rate'u.\n",
        "\n",
        "- Adam - aktualizuje wagi sieci na podstawie informacji o poprzednich gradientach, wyliczonego gradientu i learning rate'u.\n",
        "https://pytorch.org/docs/stable/generated/torch.optim.Adam.html#torch.optim.Adam"
      ]
    },
    {
      "cell_type": "code",
      "execution_count": null,
      "metadata": {
        "id": "UC6_fPk7ckM0"
      },
      "outputs": [],
      "source": [
        "device = torch.device(\"cuda\" if torch.cuda.is_available() else \"cpu\")\n",
        "\n",
        "model = ExampleModel2().to(device)\n",
        "\n",
        "criterion = nn.CrossEntropyLoss()\n",
        "optimizer = optim.SGD(model.parameters(), lr=learning_rate)"
      ]
    },
    {
      "cell_type": "code",
      "source": [
        "print(device)"
      ],
      "metadata": {
        "colab": {
          "base_uri": "https://localhost:8080/"
        },
        "id": "MUPh_Jc3Bcaz",
        "outputId": "9160a12d-4f65-4985-e851-beeef45e9330"
      },
      "execution_count": null,
      "outputs": [
        {
          "output_type": "stream",
          "name": "stdout",
          "text": [
            "cpu\n"
          ]
        }
      ]
    },
    {
      "cell_type": "markdown",
      "metadata": {
        "id": "ci3pa77aIzjw"
      },
      "source": [
        "# Dane treningowe i testowe\n",
        "\n",
        "Podczas procesu uczenia modelu wyróżniamy 3 typy danych biorących udział w tym procesie:\n",
        "- dane treningowe - na nich uczony jest model\n",
        "- dane walidacyjne - na nich walidowany jest co epokę model i testowane jest, czy model nie zaczyna być przeuczony\n",
        "- dane testowe - finalnie wykorzystane do testu modelu, który miał najlepszy wynik na zbiorze walidacyjnym.\n",
        "\n",
        "Sposób podziału zbioru danych na powyższe podzbiory zależy od zadania, samego zbioru i założenia, jakie przyjął autor.\n",
        "\n",
        "Zanim zaczniemy trenować nasz model musimy przeprowadzić transformację danych. Transfromacja danych służy zmianie struktury danych do postaci wykorzystywanej przez modele w bibliotece torch.\n",
        "\n",
        "W tym celu korzystamy z klasy Compose z biblioteki torchvision, definiując pakiet transformacji naszych danych. W poniższym kodzie jest to:\n",
        "- przekształcenie formatu danych do klasy torch.Tensor()\n",
        "- stosujemy normalizacje, czyli przetwarzamy dane do wartości z przedziału [0, 1], aby zapewnić większą stabilność obliczeniową podczas treningu\n",
        "\n",
        "W tym przykładzie wykorzystamy zbiór danych MNIST, dostępny w module torch.datasets wczytując jego podzbiory treningowy i testowy.\n",
        "\n",
        "W dalszej części kodu tworzymy obiekty klasy DataLoader, służacej do załadowywania batchów danych do treningu modelu."
      ]
    },
    {
      "cell_type": "code",
      "execution_count": null,
      "metadata": {
        "id": "sVcePhToeSlW"
      },
      "outputs": [],
      "source": [
        "transforms = tf.Compose([\n",
        "    tf.ToTensor(),\n",
        "    tf.Normalize((0.5,), (0.5,))\n",
        "])\n",
        "\n",
        "train_dataset = datasets.MNIST(root=\"./dataset\", train=True, transform=transforms,download=True)\n",
        "test_dataset = datasets.MNIST(root=\"./dataset\", train=False, transform=transforms,download=True)\n",
        "\n",
        "train_loader = DataLoader(dataset=train_dataset, batch_size=batch_size, shuffle=True)\n",
        "test_loader = DataLoader(dataset=test_dataset, batch_size=batch_size, shuffle=False)\n"
      ]
    },
    {
      "cell_type": "code",
      "execution_count": null,
      "metadata": {
        "colab": {
          "base_uri": "https://localhost:8080/",
          "height": 482
        },
        "id": "t9xZralXd6al",
        "outputId": "37d20534-9dd8-4b71-a658-15b74e650a1a"
      },
      "outputs": [
        {
          "output_type": "stream",
          "name": "stdout",
          "text": [
            "(28, 28)\n"
          ]
        },
        {
          "output_type": "stream",
          "name": "stderr",
          "text": [
            "/usr/local/lib/python3.10/dist-packages/torchvision/datasets/mnist.py:75: UserWarning: train_data has been renamed data\n",
            "  warnings.warn(\"train_data has been renamed data\")\n"
          ]
        },
        {
          "output_type": "display_data",
          "data": {
            "text/plain": [
              "<Figure size 640x480 with 1 Axes>"
            ],
            "image/png": "[encoded data removed]"
          },
          "metadata": {}
        }
      ],
      "source": [
        "print(train_dataset.train_data[0].numpy().shape)\n",
        "plt.imshow(train_dataset.train_data[0].numpy(), cmap='gray')\n",
        "plt.show()"
      ]
    },
    {
      "cell_type": "markdown",
      "metadata": {
        "id": "zdvZuX9SQEBL"
      },
      "source": [
        "# Pętla treningowa\n",
        "\n",
        "Definiujemy pętlę for iterującą po każdej epoce treningu, wewnątrz której iterujemy po paczkach (batches) danych treningowych i w każdej iteracji:\n",
        "\n",
        "- ładujemy dane wejściowe i etykiety (labels) na urządzenie obliczeniowe\n",
        "- model generuje output z danych wejściowych\n",
        "- obliczamy różnice między wynikami modelu a etykietami\n",
        "- zerujemy gradient który był wcześniej obliczany\n",
        "- obliczamy gradient z funkcji straty\n",
        "- aktualizujemy wagi w naszym modelu"
      ]
    },
    {
      "cell_type": "code",
      "execution_count": null,
      "metadata": {
        "id": "nGcRZHmLPqG_",
        "outputId": "5fc64985-d31b-4eb4-b29d-b443832af2d4",
        "colab": {
          "base_uri": "https://localhost:8080/"
        }
      },
      "outputs": [
        {
          "output_type": "stream",
          "name": "stdout",
          "text": [
            "cpu\n"
          ]
        }
      ],
      "source": [
        "print(device)"
      ]
    },
    {
      "cell_type": "code",
      "execution_count": null,
      "metadata": {
        "colab": {
          "base_uri": "https://localhost:8080/"
        },
        "id": "JsnwIdJlgnKg",
        "outputId": "79b3004a-bc48-4c3c-a990-5eb2e96a6b20"
      },
      "outputs": [
        {
          "output_type": "stream",
          "name": "stderr",
          "text": [
            "/usr/local/lib/python3.10/dist-packages/torch/nn/modules/module.py:1518: UserWarning: Implicit dimension choice for softmax has been deprecated. Change the call to include dim=X as an argument.\n",
            "  return self._call_impl(*args, **kwargs)\n"
          ]
        },
        {
          "output_type": "stream",
          "name": "stdout",
          "text": [
            "Epoch: 0/20 | Step: 0/9380 | Loss: 2.3019766807556152\n",
            "Epoch: 1/20 | Step: 469/9380 | Loss: 2.292313575744629\n",
            "Epoch: 2/20 | Step: 938/9380 | Loss: 2.2423782348632812\n",
            "Epoch: 3/20 | Step: 1407/9380 | Loss: 2.079305410385132\n",
            "Epoch: 4/20 | Step: 1876/9380 | Loss: 2.0324323177337646\n",
            "Epoch: 5/20 | Step: 2345/9380 | Loss: 1.919705867767334\n",
            "Epoch: 6/20 | Step: 2814/9380 | Loss: 1.845484733581543\n",
            "Epoch: 7/20 | Step: 3283/9380 | Loss: 1.816897988319397\n",
            "Epoch: 8/20 | Step: 3752/9380 | Loss: 1.7392539978027344\n",
            "Epoch: 9/20 | Step: 4221/9380 | Loss: 1.7449798583984375\n",
            "Epoch: 10/20 | Step: 4690/9380 | Loss: 1.7332803010940552\n",
            "Epoch: 11/20 | Step: 5159/9380 | Loss: 1.7056034803390503\n",
            "Epoch: 12/20 | Step: 5628/9380 | Loss: 1.700762391090393\n",
            "Epoch: 13/20 | Step: 6097/9380 | Loss: 1.7639660835266113\n",
            "Epoch: 14/20 | Step: 6566/9380 | Loss: 1.7692153453826904\n",
            "Epoch: 15/20 | Step: 7035/9380 | Loss: 1.7374157905578613\n",
            "Epoch: 16/20 | Step: 7504/9380 | Loss: 1.7156481742858887\n",
            "Epoch: 17/20 | Step: 7973/9380 | Loss: 1.737479567527771\n",
            "Epoch: 18/20 | Step: 8442/9380 | Loss: 1.6465409994125366\n",
            "Epoch: 19/20 | Step: 8911/9380 | Loss: 1.711321234703064\n"
          ]
        }
      ],
      "source": [
        "step = 0\n",
        "total_steps = len(train_loader) * num_epochs\n",
        "\n",
        "for epoch in range(num_epochs):\n",
        "  for batch_idx, (images, labels) in enumerate(train_loader):\n",
        "      images = images.to(device)\n",
        "      labels = labels.to(device)\n",
        "\n",
        "      outputs = model(images)\n",
        "      loss = criterion(outputs, labels)\n",
        "      #Resets the gradients of all optimized torch.Tensor\n",
        "      optimizer.zero_grad()\n",
        "\n",
        "      #This is where the model learns by backpropagating\n",
        "      loss.backward()\n",
        "      #And optimizes its weights here\n",
        "      optimizer.step()\n",
        "\n",
        "      if batch_idx % 500 == 0:\n",
        "        print(f'Epoch: {epoch}/{num_epochs} | Step: {step}/{total_steps} | Loss: {loss}')\n",
        "      step += 1"
      ]
    },
    {
      "cell_type": "code",
      "execution_count": null,
      "metadata": {
        "id": "zGGGxyO22qQB",
        "outputId": "68502d29-03db-4c2c-f8db-7e7b357903ce",
        "colab": {
          "base_uri": "https://localhost:8080/",
          "height": 656
        }
      },
      "outputs": [
        {
          "output_type": "display_data",
          "data": {
            "text/plain": [
              "<Figure size 640x480 with 1 Axes>"
            ],
            "image/png": "[encoded data removed]"
          },
          "metadata": {}
        },
        {
          "output_type": "stream",
          "name": "stdout",
          "text": [
            "Szansa na:\n",
            "0 - 0.0011\n",
            "1 - 0.0000\n",
            "2 - 0.0000\n",
            "3 - 0.7762\n",
            "4 - 0.0000\n",
            "5 - 0.0000\n",
            "6 - 0.0000\n",
            "7 - 0.0000\n",
            "8 - 0.2227\n",
            "9 - 0.0000\n",
            "Prawdziwa liczba\n",
            "tensor(5)\n"
          ]
        }
      ],
      "source": [
        "import random\n",
        "i = random.randint(1, batch_size)\n",
        "examples = enumerate(test_loader) # używamy danych testowych\n",
        "batch_idx, (example_image, example_labels) = next(examples)\n",
        "plt.imshow(example_image.numpy()[i][0], cmap='gray')\n",
        "plt.show()\n",
        "result = model(example_image[i][0])\n",
        "print(f'Szansa na:')\n",
        "print(f'0 - {result[0][0]:.4f}')\n",
        "print(f'1 - {result[0][1]:.4f}')\n",
        "print(f'2 - {result[0][2]:.4f}')\n",
        "print(f'3 - {result[0][3]:.4f}')\n",
        "print(f'4 - {result[0][4]:.4f}')\n",
        "print(f'5 - {result[0][5]:.4f}')\n",
        "print(f'6 - {result[0][6]:.4f}')\n",
        "print(f'7 - {result[0][7]:.4f}')\n",
        "print(f'8 - {result[0][8]:.4f}')\n",
        "print(f'9 - {result[0][9]:.4f}')\n",
        "print('Prawdziwa liczba')\n",
        "print(example_labels[i])"
      ]
    },
    {
      "cell_type": "code",
      "source": [
        "torch.save(model, './mnist_model.pt')"
      ],
      "metadata": {
        "id": "5DACiECftpKa"
      },
      "execution_count": null,
      "outputs": []
    }
  ],
  "metadata": {
    "colab": {
      "provenance": []
    },
    "kernelspec": {
      "display_name": "Python 3 (ipykernel)",
      "language": "python",
      "name": "python3"
    },
    "language_info": {
      "codemirror_mode": {
        "name": "ipython",
        "version": 3
      },
      "file_extension": ".py",
      "mimetype": "text/x-python",
      "name": "python",
      "nbconvert_exporter": "python",
      "pygments_lexer": "ipython3",
      "version": "3.10.6"
    }
  },
  "nbformat": 4,
  "nbformat_minor": 0
}
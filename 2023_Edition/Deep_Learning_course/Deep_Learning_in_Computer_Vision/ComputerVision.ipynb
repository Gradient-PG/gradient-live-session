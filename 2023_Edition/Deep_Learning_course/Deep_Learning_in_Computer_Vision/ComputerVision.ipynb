{
  "cells": [
    {
      "cell_type": "markdown",
      "metadata": {
        "id": "LaGQ5E_FJbbb"
      },
      "source": [
        "<img src=\"https://drive.google.com/uc?export=view&id=1uDiRDsBQS2OijoIu83KvnqRfAOlToUk2\" style=\"width: 200px;\"/>"
      ]
    },
    {
      "cell_type": "markdown",
      "metadata": {
        "id": "aMESP4RAJbbc"
      },
      "source": [
        "# Deep Learning in Computer Vision\n",
        "##### Serhii Pyskovatskyi\n",
        "\n",
        "Description:\n",
        "\n",
        "In this notebook you will learn how to train a handwritten digit classifier.\n",
        "You will use data from MNIST database, which contains images of digits from 0 to 9. You will utilize Convolutional Neural Network to solve that task. At the end you will have a chance to create your own network.\n",
        "\n",
        "<a href=\"https://colab.research.google.com/drive/1Qc1RgnCZI_HsQW696e1fZ2S2zLAcBeyU#scrollTo=aMESP4RAJbbc\">Run in Google Colab</a>\n",
        "## Table of Contents\n",
        "**[1. Handwritten digit classifier](#1.-Section-1)<br>**\n",
        "&nbsp;&nbsp;&nbsp;&nbsp;[1.1 MNIST dataset](#1.1-Subsection-1.1)<br>\n",
        "&nbsp;&nbsp;&nbsp;&nbsp;[1.2 Neural Network](#1.2-Subsection-1.2)<br>\n",
        "&nbsp;&nbsp;&nbsp;&nbsp;[1.3 Training the model](#1.3-Subsection-1.3)<br>\n",
        "**[2. Task](#2.-Section-2)<br>**"
      ]
    },
    {
      "cell_type": "markdown",
      "metadata": {
        "id": "4dARF7A3Jbbd"
      },
      "source": [
        "---\n",
        "<a name=\"1.-Section-1\"></a>\n",
        "# 1. Handwritten digit classifier"
      ]
    },
    {
      "cell_type": "markdown",
      "source": [
        "In this section you will learn:\n",
        " - how to load MNIST dataset\n",
        "\n",
        " - how to create a simple CNN in Pytorch\n",
        "\n",
        " - how to train and evaluate the network\n",
        "\n",
        " To code below imports all required libraries."
      ],
      "metadata": {
        "id": "5blX8Rzbbtdg"
      }
    },
    {
      "cell_type": "code",
      "source": [
        "import numpy as np\n",
        "import torch\n",
        "from torchvision import datasets\n",
        "from torchvision.transforms import ToTensor"
      ],
      "metadata": {
        "id": "j_GWXDUx3__1"
      },
      "execution_count": null,
      "outputs": []
    },
    {
      "cell_type": "markdown",
      "metadata": {
        "id": "n5asnwU1Jbbe"
      },
      "source": [
        "<a name=\"1.1-Subsection-1.1\"></a>\n",
        "## 1.1 MNIST dataset"
      ]
    },
    {
      "cell_type": "markdown",
      "metadata": {
        "id": "HezOBd-lJbbe"
      },
      "source": [
        "[MNIST](http://yann.lecun.com/exdb/mnist/) dataset contains images of handwritten digits. It is a very popular dataset for creating your first CNN classifier. We will use methods available in Pytorch to load it."
      ]
    },
    {
      "cell_type": "code",
      "execution_count": null,
      "metadata": {
        "id": "dOzcSiAGJbbe",
        "colab": {
          "base_uri": "https://localhost:8080/"
        },
        "outputId": "cce04361-245d-47e9-da7c-72e14647c9e3"
      },
      "outputs": [
        {
          "output_type": "stream",
          "name": "stdout",
          "text": [
            "Downloading http://yann.lecun.com/exdb/mnist/train-images-idx3-ubyte.gz\n",
            "Downloading http://yann.lecun.com/exdb/mnist/train-images-idx3-ubyte.gz to data/MNIST/raw/train-images-idx3-ubyte.gz\n"
          ]
        },
        {
          "output_type": "stream",
          "name": "stderr",
          "text": [
            "100%|██████████| 9912422/9912422 [00:00<00:00, 35544274.41it/s]\n"
          ]
        },
        {
          "output_type": "stream",
          "name": "stdout",
          "text": [
            "Extracting data/MNIST/raw/train-images-idx3-ubyte.gz to data/MNIST/raw\n",
            "\n",
            "Downloading http://yann.lecun.com/exdb/mnist/train-labels-idx1-ubyte.gz\n",
            "Downloading http://yann.lecun.com/exdb/mnist/train-labels-idx1-ubyte.gz to data/MNIST/raw/train-labels-idx1-ubyte.gz\n"
          ]
        },
        {
          "output_type": "stream",
          "name": "stderr",
          "text": [
            "100%|██████████| 28881/28881 [00:00<00:00, 120293638.36it/s]"
          ]
        },
        {
          "output_type": "stream",
          "name": "stdout",
          "text": [
            "Extracting data/MNIST/raw/train-labels-idx1-ubyte.gz to data/MNIST/raw\n",
            "\n",
            "Downloading http://yann.lecun.com/exdb/mnist/t10k-images-idx3-ubyte.gz\n",
            "Downloading http://yann.lecun.com/exdb/mnist/t10k-images-idx3-ubyte.gz to data/MNIST/raw/t10k-images-idx3-ubyte.gz\n"
          ]
        },
        {
          "output_type": "stream",
          "name": "stderr",
          "text": [
            "\n",
            "100%|██████████| 1648877/1648877 [00:00<00:00, 48990503.49it/s]\n"
          ]
        },
        {
          "output_type": "stream",
          "name": "stdout",
          "text": [
            "Extracting data/MNIST/raw/t10k-images-idx3-ubyte.gz to data/MNIST/raw\n",
            "\n",
            "Downloading http://yann.lecun.com/exdb/mnist/t10k-labels-idx1-ubyte.gz\n",
            "Downloading http://yann.lecun.com/exdb/mnist/t10k-labels-idx1-ubyte.gz to data/MNIST/raw/t10k-labels-idx1-ubyte.gz\n"
          ]
        },
        {
          "output_type": "stream",
          "name": "stderr",
          "text": [
            "100%|██████████| 4542/4542 [00:00<00:00, 22760488.37it/s]\n"
          ]
        },
        {
          "output_type": "stream",
          "name": "stdout",
          "text": [
            "Extracting data/MNIST/raw/t10k-labels-idx1-ubyte.gz to data/MNIST/raw\n",
            "\n"
          ]
        }
      ],
      "source": [
        "# Load the data and split it between train and test sets\n",
        "x_train = datasets.MNIST(\n",
        "    root = 'data',\n",
        "    train = True,\n",
        "    transform = ToTensor(),\n",
        "    download = True,\n",
        ")\n",
        "x_test = datasets.MNIST(\n",
        "    root = 'data',\n",
        "    train = False,\n",
        "    transform = ToTensor()\n",
        ")\n"
      ]
    },
    {
      "cell_type": "code",
      "source": [
        "# Let's visualize some of the data\n",
        "import matplotlib.pyplot as plt\n",
        "\n",
        "# We need to create a figure\n",
        "fig = plt.figure(figsize=(10, 10))\n",
        "\n",
        "# Then we have to add subplots to the figure and plot the images\n",
        "fig.add_subplot(2, 2, 1)\n",
        "plt.imshow(x_train.data[0], cmap='gray')\n",
        "\n",
        "fig.add_subplot(2, 2, 2)\n",
        "plt.imshow(x_train.data[1], cmap='gray')\n",
        "\n",
        "fig.add_subplot(2, 2, 3)\n",
        "plt.imshow(x_train.data[2], cmap='gray')\n",
        "\n",
        "fig.add_subplot(2, 2, 4)\n",
        "plt.imshow(x_train.data[3], cmap='gray')"
      ],
      "metadata": {
        "id": "xSmz0WHj6PJ0",
        "colab": {
          "base_uri": "https://localhost:8080/",
          "height": 847
        },
        "outputId": "c625f88b-f4a1-451f-faa0-056aff4caac0"
      },
      "execution_count": null,
      "outputs": [
        {
          "output_type": "execute_result",
          "data": {
            "text/plain": [
              "<matplotlib.image.AxesImage at 0x7c5c5d617850>"
            ]
          },
          "metadata": {},
          "execution_count": 3
        },
        {
          "output_type": "display_data",
          "data": {
            "text/plain": [
              "<Figure size 1000x1000 with 4 Axes>"
            ],
            "image/png": "[encoded data removed]"
          },
          "metadata": {}
        }
      ]
    },
    {
      "cell_type": "markdown",
      "source": [
        "As we can see the images are in grayscale. What other properties do these images have? Let's find out."
      ],
      "metadata": {
        "id": "Kqz0yAE171eQ"
      }
    },
    {
      "cell_type": "code",
      "source": [
        "# Train dataset\n",
        "print(f\"The train part of the dataset contains: {x_train.data.shape[0]} images\")\n",
        "# Test dataset\n",
        "print(f\"The test part of the dataset contains: {x_test.data.shape[0]} images\")\n",
        "# One image\n",
        "print(f\"Shape of one image is: {x_train.data[0].shape}\")\n",
        "print(f\"Data type of the images is: {x_train.data[0].dtype}\")\n",
        "print(f\"Max value of images is: {x_train.data.max()} and min value of images is: {x_train.data.min()}\")"
      ],
      "metadata": {
        "id": "_IzdSsTm8IQD",
        "colab": {
          "base_uri": "https://localhost:8080/"
        },
        "outputId": "8f795e04-fb08-462b-f190-b6218d08b858"
      },
      "execution_count": null,
      "outputs": [
        {
          "output_type": "stream",
          "name": "stdout",
          "text": [
            "The train part of the dataset contains: 60000 images\n",
            "The test part of the dataset contains: 10000 images\n",
            "Shape of one image is: torch.Size([28, 28])\n",
            "Data type of the images is: torch.uint8\n",
            "Max value of images is: 255 and min value of images is: 0\n"
          ]
        }
      ]
    },
    {
      "cell_type": "markdown",
      "source": [
        "So we have checked other properties of the dataset. We now know that there are 60000 images in the train set and 10000 images in the test set. The images are 28 pixels wide and 28 pixel high. They are represented as 8 bit unsigned integers,so they can hold values from 0 to 255.\n",
        ".\n",
        "\n",
        "The Dataset retrieves our dataset’s features and labels one sample at a time. While training a model, we typically want to pass samples in “minibatches”, reshuffle the data at every epoch to reduce model overfitting, and use Python’s multiprocessing to speed up data retrieval.\n",
        "\n"
      ],
      "metadata": {
        "id": "b7aB25rT9XCf"
      }
    },
    {
      "cell_type": "code",
      "source": [
        "from torch.utils.data import DataLoader\n",
        "loaders = {\n",
        "    'train' : torch.utils.data.DataLoader(x_train,\n",
        "                                          batch_size=100,\n",
        "                                          shuffle=True,\n",
        "                                          num_workers=1),\n",
        "\n",
        "    'test'  : torch.utils.data.DataLoader(x_test,\n",
        "                                          batch_size=100,\n",
        "                                          shuffle=True,\n",
        "                                          num_workers=1),\n",
        "}\n",
        "loaders"
      ],
      "metadata": {
        "id": "vHZJM8Ec-L_u",
        "colab": {
          "base_uri": "https://localhost:8080/"
        },
        "outputId": "016e8579-2f9d-4781-c1ca-728f35e6dbc2"
      },
      "execution_count": null,
      "outputs": [
        {
          "output_type": "execute_result",
          "data": {
            "text/plain": [
              "{'train': <torch.utils.data.dataloader.DataLoader at 0x7c5c5b583f70>,\n",
              " 'test': <torch.utils.data.dataloader.DataLoader at 0x7c5c5b583c70>}"
            ]
          },
          "metadata": {},
          "execution_count": 5
        }
      ]
    },
    {
      "cell_type": "markdown",
      "metadata": {
        "id": "19Jl8QeHJbbe"
      },
      "source": [
        "<a name=\"1.2-Subsection-1.2\"></a>\n",
        "## 1.2 Neural Network\n"
      ]
    },
    {
      "cell_type": "markdown",
      "source": [
        "It's time to create the model. We will use torch.nn  that enables creation of Neural Network models."
      ],
      "metadata": {
        "id": "xYVPyUQlbuet"
      }
    },
    {
      "cell_type": "code",
      "execution_count": null,
      "metadata": {
        "id": "Glb2_YDvJbbe",
        "colab": {
          "base_uri": "https://localhost:8080/"
        },
        "outputId": "07bc5642-1b0f-4dea-b2a1-c8b2a49bb082"
      },
      "outputs": [
        {
          "output_type": "stream",
          "name": "stdout",
          "text": [
            "CNN(\n",
            "  (conv1): Sequential(\n",
            "    (0): Conv2d(1, 16, kernel_size=(5, 5), stride=(1, 1), padding=(2, 2))\n",
            "    (1): ReLU()\n",
            "    (2): MaxPool2d(kernel_size=2, stride=2, padding=0, dilation=1, ceil_mode=False)\n",
            "  )\n",
            "  (conv2): Sequential(\n",
            "    (0): Conv2d(16, 32, kernel_size=(5, 5), stride=(1, 1), padding=(2, 2))\n",
            "    (1): ReLU()\n",
            "    (2): MaxPool2d(kernel_size=2, stride=2, padding=0, dilation=1, ceil_mode=False)\n",
            "  )\n",
            "  (out): Linear(in_features=1568, out_features=10, bias=True)\n",
            ")\n"
          ]
        }
      ],
      "source": [
        "import torch.nn as nn\n",
        "class CNN(nn.Module):\n",
        "    def __init__(self):\n",
        "        super(CNN, self).__init__()\n",
        "        self.conv1 = nn.Sequential(\n",
        "            nn.Conv2d(\n",
        "                in_channels=1,\n",
        "                out_channels=16,\n",
        "                kernel_size=5,\n",
        "                stride=1,\n",
        "                padding=2,\n",
        "            ),\n",
        "            nn.ReLU(),\n",
        "            nn.MaxPool2d(kernel_size=2),\n",
        "        )\n",
        "        self.conv2 = nn.Sequential(\n",
        "            nn.Conv2d(16, 32, 5, 1, 2),\n",
        "            nn.ReLU(),\n",
        "            nn.MaxPool2d(2),\n",
        "        )\n",
        "        # fully connected layer, output 10 classes\n",
        "        self.out = nn.Linear(32 * 7 * 7, 10)\n",
        "    def forward(self, x):\n",
        "        x = self.conv1(x)\n",
        "        x = self.conv2(x)\n",
        "        # flatten the output of conv2 to (batch_size, 32 * 7 * 7)\n",
        "        x = x.view(x.size(0), -1)\n",
        "        output = self.out(x)\n",
        "        return output, x    # return x for visualization\n",
        "\n",
        "cnn = CNN()\n",
        "print(cnn)"
      ]
    },
    {
      "cell_type": "markdown",
      "metadata": {
        "id": "9AFU7l0aJbbf"
      },
      "source": [
        "<a name=\"1.3-Subsection-1.3\"></a>\n",
        "## 1.3 Training the model\n"
      ]
    },
    {
      "cell_type": "markdown",
      "source": [
        "We now have almost all of the elements required for model training. The data is loaded and the model is defined. Last thing we need to do is to compile the model. During that we determine which loss function we would like to use and what optimizer will be used to update the parameters. Also we determine the type of metrics that will be used to evaluate our model.\n",
        "\n"
      ],
      "metadata": {
        "id": "cNwmfqpIb32O"
      }
    },
    {
      "cell_type": "code",
      "execution_count": null,
      "metadata": {
        "id": "mog_irCLJbbf",
        "colab": {
          "base_uri": "https://localhost:8080/"
        },
        "outputId": "f48d4c2b-942e-4258-8258-ab07685cc00e"
      },
      "outputs": [
        {
          "output_type": "execute_result",
          "data": {
            "text/plain": [
              "Adam (\n",
              "Parameter Group 0\n",
              "    amsgrad: False\n",
              "    betas: (0.9, 0.999)\n",
              "    capturable: False\n",
              "    differentiable: False\n",
              "    eps: 1e-08\n",
              "    foreach: None\n",
              "    fused: None\n",
              "    lr: 0.01\n",
              "    maximize: False\n",
              "    weight_decay: 0\n",
              ")"
            ]
          },
          "metadata": {},
          "execution_count": 7
        }
      ],
      "source": [
        "loss_func = nn.CrossEntropyLoss()\n",
        "loss_func\n",
        "\n",
        "from torch import optim\n",
        "optimizer = optim.Adam(cnn.parameters(), lr = 0.01)\n",
        "optimizer"
      ]
    },
    {
      "cell_type": "markdown",
      "source": [
        "We choose device on which we will train our network. <br />\n",
        "The device can be GPU (cuda:0) or cpu if cuda is not present."
      ],
      "metadata": {
        "id": "Beyni_q5F5u7"
      }
    },
    {
      "cell_type": "code",
      "source": [
        "device = torch.device(\"cuda:0\" if torch.cuda.is_available() else \"cpu\")"
      ],
      "metadata": {
        "id": "Zk6ba61AFyeZ"
      },
      "execution_count": null,
      "outputs": []
    },
    {
      "cell_type": "markdown",
      "source": [
        "And we move our model to the device"
      ],
      "metadata": {
        "id": "j0GIPMF5GX8B"
      }
    },
    {
      "cell_type": "code",
      "source": [
        "cnn = cnn.to(device)"
      ],
      "metadata": {
        "id": "2WnSdJCOGXpA"
      },
      "execution_count": null,
      "outputs": []
    },
    {
      "cell_type": "markdown",
      "source": [
        "Now we can train the model."
      ],
      "metadata": {
        "id": "Zls28ufoCPCJ"
      }
    },
    {
      "cell_type": "code",
      "source": [
        "num_epochs = 5\n",
        "val_loss = []\n",
        "\n",
        "def train(num_epochs, cnn, loaders):\n",
        "\n",
        "    cnn.train()\n",
        "\n",
        "    # Train the model\n",
        "    total_step = len(loaders['train'])\n",
        "\n",
        "    for epoch in range(num_epochs):\n",
        "        for i, (images, labels) in enumerate(loaders['train']):\n",
        "\n",
        "            # gives batch data, normalize x when iterate train_loader\n",
        "            b_x = images.to(device)  # batch x\n",
        "            b_y = labels.to(device)   # batch y\n",
        "            output = cnn(b_x)[0]\n",
        "            loss = loss_func(output, b_y)\n",
        "\n",
        "            # clear gradients for this training step\n",
        "            optimizer.zero_grad()\n",
        "\n",
        "            # backpropagation, compute gradients\n",
        "            loss.backward()\n",
        "            # apply gradients\n",
        "            optimizer.step()\n",
        "\n",
        "\n",
        "            if (i+1) % 100 == 0:\n",
        "              val_loss.append(loss.item()) # this is neede for visualization\n",
        "              print('Epoch [{}/{}], Step [{}/{}], Loss: {:.4f}'\n",
        "                       .format(epoch + 1, num_epochs, i + 1, total_step, loss.item()))\n",
        "              pass\n",
        "        pass\n",
        "\n",
        "\n",
        "    pass\n",
        "train(num_epochs, cnn, loaders)"
      ],
      "metadata": {
        "id": "e3qWfE4_CYv6",
        "colab": {
          "base_uri": "https://localhost:8080/"
        },
        "outputId": "028501b0-1e96-459f-b26e-ccb294cbed92"
      },
      "execution_count": null,
      "outputs": [
        {
          "output_type": "stream",
          "name": "stdout",
          "text": [
            "Epoch [1/5], Step [100/600], Loss: 0.2256\n",
            "Epoch [1/5], Step [200/600], Loss: 0.2627\n",
            "Epoch [1/5], Step [300/600], Loss: 0.0397\n",
            "Epoch [1/5], Step [400/600], Loss: 0.0663\n",
            "Epoch [1/5], Step [500/600], Loss: 0.0667\n",
            "Epoch [1/5], Step [600/600], Loss: 0.0650\n",
            "Epoch [2/5], Step [100/600], Loss: 0.0210\n",
            "Epoch [2/5], Step [200/600], Loss: 0.0702\n",
            "Epoch [2/5], Step [300/600], Loss: 0.0333\n",
            "Epoch [2/5], Step [400/600], Loss: 0.0952\n",
            "Epoch [2/5], Step [500/600], Loss: 0.0846\n",
            "Epoch [2/5], Step [600/600], Loss: 0.1077\n",
            "Epoch [3/5], Step [100/600], Loss: 0.1054\n",
            "Epoch [3/5], Step [200/600], Loss: 0.0525\n",
            "Epoch [3/5], Step [300/600], Loss: 0.0503\n",
            "Epoch [3/5], Step [400/600], Loss: 0.0276\n",
            "Epoch [3/5], Step [500/600], Loss: 0.0625\n",
            "Epoch [3/5], Step [600/600], Loss: 0.0802\n",
            "Epoch [4/5], Step [100/600], Loss: 0.0307\n",
            "Epoch [4/5], Step [200/600], Loss: 0.0940\n",
            "Epoch [4/5], Step [300/600], Loss: 0.0620\n",
            "Epoch [4/5], Step [400/600], Loss: 0.0247\n",
            "Epoch [4/5], Step [500/600], Loss: 0.1256\n",
            "Epoch [4/5], Step [600/600], Loss: 0.1097\n",
            "Epoch [5/5], Step [100/600], Loss: 0.1101\n",
            "Epoch [5/5], Step [200/600], Loss: 0.0198\n",
            "Epoch [5/5], Step [300/600], Loss: 0.0363\n",
            "Epoch [5/5], Step [400/600], Loss: 0.0130\n",
            "Epoch [5/5], Step [500/600], Loss: 0.0848\n",
            "Epoch [5/5], Step [600/600], Loss: 0.0135\n"
          ]
        }
      ]
    },
    {
      "cell_type": "markdown",
      "source": [
        "With the model trained we can check the accuracy of our model on a test dataset."
      ],
      "metadata": {
        "id": "muboTLWfDGYJ"
      }
    },
    {
      "cell_type": "code",
      "source": [
        "def test():\n",
        "    # Test the model\n",
        "    cnn.eval()\n",
        "    with torch.no_grad():\n",
        "        correct = 0\n",
        "        total = 0\n",
        "        for images, labels in loaders['test']:\n",
        "            images = images.to(device)  # batch x\n",
        "            labels = labels.to(device)   # batch y\n",
        "            test_output, last_layer = cnn(images)\n",
        "            pred_y = torch.max(test_output, 1)[1].data.squeeze()\n",
        "            accuracy = (pred_y == labels).sum().item() / float(labels.size(0))\n",
        "            pass\n",
        "    print('Test Accuracy of the model on the 10000 test images: %.2f' % accuracy)\n",
        "    pass\n",
        "test()\n"
      ],
      "metadata": {
        "colab": {
          "base_uri": "https://localhost:8080/"
        },
        "id": "pUa7ZOYPEqHq",
        "outputId": "0b832746-e9a3-4c76-8b1c-2aaa594099ea"
      },
      "execution_count": null,
      "outputs": [
        {
          "output_type": "stream",
          "name": "stdout",
          "text": [
            "Test Accuracy of the model on the 10000 test images: 0.99\n"
          ]
        }
      ]
    },
    {
      "cell_type": "markdown",
      "source": [
        "Accuracy on test set is very high. This means that our model is classifying digits very well. To finish this notebook let's visualize results of training."
      ],
      "metadata": {
        "id": "l79-gwUZz_qB"
      }
    },
    {
      "cell_type": "code",
      "source": [
        "fig = plt.figure(figsize=(10, 10))\n",
        "fig.add_subplot(2, 2, 2)\n",
        "\n",
        "plt.plot(val_loss)\n",
        "plt.legend(['training', 'validation'])\n",
        "plt.title(\"Loss\")"
      ],
      "metadata": {
        "id": "XhVF-OjS0Men",
        "colab": {
          "base_uri": "https://localhost:8080/",
          "height": 450
        },
        "outputId": "cd0c0eaa-37e8-4283-a5bb-cbee57392f3c"
      },
      "execution_count": null,
      "outputs": [
        {
          "output_type": "execute_result",
          "data": {
            "text/plain": [
              "Text(0.5, 1.0, 'Loss')"
            ]
          },
          "metadata": {},
          "execution_count": 14
        },
        {
          "output_type": "display_data",
          "data": {
            "text/plain": [
              "<Figure size 1000x1000 with 1 Axes>"
            ],
            "image/png": "[encoded data removed]"
          },
          "metadata": {}
        }
      ]
    },
    {
      "cell_type": "markdown",
      "metadata": {
        "id": "yC7dOVFKJbbf"
      },
      "source": [
        "---\n",
        "<a name=\"2.-Section-2\"></a>\n",
        "# 2. Task: create a classifier for CIFAR10 dataset"
      ]
    },
    {
      "cell_type": "markdown",
      "source": [
        "CIFAR10 is a dataset that contains images from 10 different classes. The classes are: airplanes, cars, birds, cats, deer, dogs, frogs, horses, ships, and trucks. Based on the code above experiment with this dataset.\n",
        "Try to visualize the different classes. Create a classifier for them. Try to change neural network parameters and look what happens. Wish you luck."
      ],
      "metadata": {
        "id": "bRq_umRqbwUB"
      }
    },
    {
      "cell_type": "code",
      "execution_count": null,
      "metadata": {
        "id": "v6bGmL9sJbbf",
        "colab": {
          "base_uri": "https://localhost:8080/"
        },
        "outputId": "7cf58882-ffea-43a8-b71b-55d8f3c81afe"
      },
      "outputs": [
        {
          "output_type": "stream",
          "name": "stdout",
          "text": [
            "Downloading https://www.cs.toronto.edu/~kriz/cifar-10-python.tar.gz to data/cifar-10-python.tar.gz\n"
          ]
        },
        {
          "output_type": "stream",
          "name": "stderr",
          "text": [
            "100%|██████████| 170498071/170498071 [00:03<00:00, 49725961.73it/s]\n"
          ]
        },
        {
          "output_type": "stream",
          "name": "stdout",
          "text": [
            "Extracting data/cifar-10-python.tar.gz to data\n"
          ]
        }
      ],
      "source": [
        "x_train = datasets.CIFAR10(\n",
        "    root = 'data',\n",
        "    train = True,\n",
        "    transform = ToTensor(),\n",
        "    download = True,\n",
        ")\n",
        "x_test = datasets.CIFAR10(\n",
        "    root = 'data',\n",
        "    train = False,\n",
        "    transform = ToTensor()\n",
        ")"
      ]
    },
    {
      "cell_type": "code",
      "source": [
        "# Place your code here\n",
        "\n",
        "\n",
        "\n",
        "\n",
        "\n",
        "\n",
        "\n",
        "\n",
        "\n",
        "\n",
        "\n"
      ],
      "metadata": {
        "id": "qRw20XJeQpKi"
      },
      "execution_count": null,
      "outputs": []
    },
    {
      "cell_type": "markdown",
      "source": [
        "---\n",
        "\n",
        "This notebook is a part of introductory machine learning course, led by the [Gradient](https://gradient.eti.pg.gda.pl/) science club in the 2023/2024 school year.\n",
        "\n",
        "<img src=\"https://drive.google.com/uc?export=view&id=1P7SX6J_GWlS1ENxVaZCcBO0BxHP6ULEg\" width=\"1050\"/>"
      ],
      "metadata": {
        "id": "xZ23d5lsPloz"
      }
    }
  ],
  "metadata": {
    "kernelspec": {
      "display_name": "Python 3.8.5 32-bit",
      "language": "python",
      "name": "python3"
    },
    "language_info": {
      "codemirror_mode": {
        "name": "ipython",
        "version": 3
      },
      "file_extension": ".py",
      "mimetype": "text/x-python",
      "name": "python",
      "nbconvert_exporter": "python",
      "pygments_lexer": "ipython3",
      "version": "3.8.5"
    },
    "orig_nbformat": 4,
    "vscode": {
      "interpreter": {
        "hash": "298c87bb46c0ece7abcceec7d9fcd87435e079314f0dee0953f90f5b1b40d0e0"
      }
    },
    "colab": {
      "provenance": [],
      "toc_visible": true
    },
    "accelerator": "GPU",
    "gpuClass": "standard"
  },
  "nbformat": 4,
  "nbformat_minor": 0
}
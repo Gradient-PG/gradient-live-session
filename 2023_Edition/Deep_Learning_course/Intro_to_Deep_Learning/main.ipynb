{
 "cells": [
  {
   "cell_type": "markdown",
   "metadata": {},
   "source": [
    "# Introduction to deep learning with pytorch\n",
    "\n",
    "## Sources:\n",
    "\n",
    "https://pytorch.org/tutorials/beginner/basics/quickstart_tutorial.html"
   ]
  },
  {
   "cell_type": "code",
   "execution_count": 1,
   "metadata": {},
   "outputs": [],
   "source": [
    "# Imports\n",
    "\n",
    "import torch\n",
    "torch.manual_seed(0) # For reproducibility of results\n",
    "from torch import nn\n",
    "from torch.utils.data import DataLoader\n",
    "from torchvision import datasets\n",
    "from torchvision.transforms import ToTensor"
   ]
  },
  {
   "cell_type": "code",
   "execution_count": 2,
   "metadata": {},
   "outputs": [
    {
     "name": "stdout",
     "output_type": "stream",
     "text": [
      "Shape of X [N, C, H, W]: torch.Size([64, 1, 28, 28])\n",
      "Shape of y: torch.Size([64]) torch.int64\n"
     ]
    }
   ],
   "source": [
    "# Download training data from open datasets.\n",
    "## Dataset view: https://www.kaggle.com/datasets/zalando-research/fashionmnist\n",
    "\n",
    "training_data = datasets.FashionMNIST(\n",
    "    root=\"data\",\n",
    "    train=True,\n",
    "    download=True,\n",
    "    transform=ToTensor(),\n",
    ")\n",
    "\n",
    "# Download test data from open datasets.\n",
    "test_data = datasets.FashionMNIST(\n",
    "    root=\"data\",\n",
    "    train=False,\n",
    "    download=True,\n",
    "    transform=ToTensor(),\n",
    ")\n",
    "\n",
    "batch_size = 64\n",
    "\n",
    "# Create data loaders.\n",
    "\n",
    "# We pass the Dataset as an argument to DataLoader. This wraps an iterable over our dataset, and supports automatic batching, sampling, shuffling and multiprocess data loading. Here we define a batch size of 64, i.e. each element in the dataloader iterable will return a batch of 64 features and labels.\n",
    "\n",
    "train_dataloader = DataLoader(training_data, batch_size=batch_size)\n",
    "test_dataloader = DataLoader(test_data, batch_size=batch_size)\n",
    "\n",
    "for X, y in test_dataloader:\n",
    "    print(f\"Shape of X [N, C, H, W]: {X.shape}\")\n",
    "    print(f\"Shape of y: {y.shape} {y.dtype}\")\n",
    "    break"
   ]
  },
  {
   "cell_type": "code",
   "execution_count": 3,
   "metadata": {},
   "outputs": [
    {
     "name": "stdout",
     "output_type": "stream",
     "text": [
      "Image shape (28, 28)\n"
     ]
    },
    {
     "data": {
      "text/plain": [
       "<matplotlib.image.AxesImage at 0x123574a10>"
      ]
     },
     "execution_count": 3,
     "metadata": {},
     "output_type": "execute_result"
    },
    {
     "data": {
      "image/png": "[encoded data removed]",
      "text/plain": [
       "<Figure size 640x480 with 1 Axes>"
      ]
     },
     "metadata": {},
     "output_type": "display_data"
    }
   ],
   "source": [
    "# Displaying sample the data using matplotlib\n",
    "\n",
    "import matplotlib.pyplot as plt\n",
    "import numpy as np\n",
    "\n",
    "# matplotlib inline\n",
    "sample_data = training_data[16]\n",
    "image = sample_data[0].numpy()[0]\n",
    "print(f\"Image shape {image.shape}\")\n",
    "plt.imshow(image * 255, cmap='Greys')"
   ]
  },
  {
   "cell_type": "markdown",
   "metadata": {},
   "source": [
    "# Model"
   ]
  },
  {
   "cell_type": "code",
   "execution_count": 4,
   "metadata": {},
   "outputs": [
    {
     "name": "stdout",
     "output_type": "stream",
     "text": [
      "Using mps device\n",
      "NeuralNetwork(\n",
      "  (flatten): Flatten(start_dim=1, end_dim=-1)\n",
      "  (linear_relu_stack): Sequential(\n",
      "    (0): Linear(in_features=784, out_features=512, bias=True)\n",
      "    (1): ReLU()\n",
      "    (2): Linear(in_features=512, out_features=512, bias=True)\n",
      "    (3): ReLU()\n",
      "    (4): Linear(in_features=512, out_features=10, bias=True)\n",
      "  )\n",
      ")\n"
     ]
    }
   ],
   "source": [
    "# Get cpu, gpu or mps device for training.\n",
    "device = (\n",
    "    \"cuda\"\n",
    "    if torch.cuda.is_available()\n",
    "    else \"mps\"\n",
    "    if torch.backends.mps.is_available()\n",
    "    else \"cpu\"\n",
    ")\n",
    "print(f\"Using {device} device\")\n",
    "\n",
    "# Define model\n",
    "class NeuralNetwork(nn.Module):\n",
    "    def __init__(self):\n",
    "        super().__init__()\n",
    "        self.flatten = nn.Flatten() # convert each 2D 28x28 image into a contiguous array of 784 pixel values (the minibatch dimension (at dim=0) is maintained).\n",
    "        self.linear_relu_stack = nn.Sequential(\n",
    "            nn.Linear(28*28, 512), # images are 28x28 pixels\n",
    "            nn.ReLU(),\n",
    "            nn.Linear(512, 512),\n",
    "            nn.ReLU(),\n",
    "            nn.Linear(512, 10)\n",
    "        )\n",
    "\n",
    "    def forward(self, x):\n",
    "        x = self.flatten(x)\n",
    "        logits = self.linear_relu_stack(x)\n",
    "        return logits\n",
    "\n",
    "model = NeuralNetwork().to(device)\n",
    "print(model)"
   ]
  },
  {
   "cell_type": "code",
   "execution_count": 5,
   "metadata": {},
   "outputs": [
    {
     "name": "stdout",
     "output_type": "stream",
     "text": [
      "Predicted class: Ankle boot, Actual class: Trouser\n"
     ]
    }
   ],
   "source": [
    "# Forward propagation on first data sample\n",
    "\n",
    "X = sample_data[0].to(device)\n",
    "logits = model(X)\n",
    "pred_probab = nn.Softmax(dim=1)(logits)\n",
    "y_pred = pred_probab.argmax(1).cpu().item()\n",
    "\n",
    "print(f\"Predicted class: {datasets.FashionMNIST.classes[y_pred]}, Actual class: {datasets.FashionMNIST.classes[sample_data[1]]}\")\n",
    "\n",
    "# Why wrong prediction? (depends on random initial weights) -> We havent trained our model yet"
   ]
  },
  {
   "cell_type": "code",
   "execution_count": 6,
   "metadata": {},
   "outputs": [],
   "source": [
    "loss_fn = nn.CrossEntropyLoss() # More about loss functions: https://pytorch.org/docs/stable/nn.html#loss-functions\n",
    "optimizer = torch.optim.Adam(model.parameters(), lr=1e-3) # More about optimizers: https://pytorch.org/docs/stable/optim.html\n",
    "\n",
    "def train(dataloader, model, loss_fn, optimizer):\n",
    "    size = len(dataloader.dataset)\n",
    "    model.train() # set model to training mode\n",
    "    for batch, (X, y) in enumerate(dataloader):\n",
    "        X, y = X.to(device), y.to(device)\n",
    "\n",
    "        # Compute prediction error\n",
    "        pred = model(X)\n",
    "        loss = loss_fn(pred, y)\n",
    "\n",
    "        # Backpropagation\n",
    "        loss.backward()\n",
    "        optimizer.step()\n",
    "        optimizer.zero_grad() # reset gradients\n",
    "\n",
    "        if batch % 100 == 0:\n",
    "            loss, current = loss.item(), (batch + 1) * len(X)\n",
    "            print(f\"loss: {loss:>7f}  [{current:>5d}/{size:>5d}]\")\n",
    "\n",
    "def test(dataloader, model, loss_fn):\n",
    "    size = len(dataloader.dataset)\n",
    "    num_batches = len(dataloader)\n",
    "    model.eval() # set model to evaluation mode\n",
    "    test_loss, correct = 0, 0\n",
    "    with torch.no_grad():\n",
    "        for X, y in dataloader:\n",
    "            X, y = X.to(device), y.to(device)\n",
    "            pred = model(X)\n",
    "            test_loss += loss_fn(pred, y).item()\n",
    "            correct += (pred.argmax(1) == y).type(torch.float).sum().item()\n",
    "    test_loss /= num_batches\n",
    "    correct /= size\n",
    "    print(f\"Test Error: \\n Accuracy: {(100*correct):>0.1f}%, Avg loss: {test_loss:>8f} \\n\")"
   ]
  },
  {
   "cell_type": "code",
   "execution_count": 7,
   "metadata": {},
   "outputs": [
    {
     "name": "stdout",
     "output_type": "stream",
     "text": [
      "Test Error: \n",
      " Accuracy: 8.9%, Avg loss: 2.304297 \n",
      "\n",
      "Epoch 1\n",
      "-------------------------------\n",
      "loss: 2.314872  [   64/60000]\n",
      "loss: 0.555549  [ 6464/60000]\n",
      "loss: 0.385013  [12864/60000]\n",
      "loss: 0.497228  [19264/60000]\n",
      "loss: 0.427932  [25664/60000]\n",
      "loss: 0.448676  [32064/60000]\n",
      "loss: 0.364214  [38464/60000]\n",
      "loss: 0.523146  [44864/60000]\n",
      "loss: 0.470050  [51264/60000]\n",
      "loss: 0.540722  [57664/60000]\n",
      "Test Error: \n",
      " Accuracy: 85.0%, Avg loss: 0.420927 \n",
      "\n",
      "Epoch 2\n",
      "-------------------------------\n",
      "loss: 0.263710  [   64/60000]\n",
      "loss: 0.368335  [ 6464/60000]\n",
      "loss: 0.279124  [12864/60000]\n",
      "loss: 0.384675  [19264/60000]\n",
      "loss: 0.406725  [25664/60000]\n",
      "loss: 0.424508  [32064/60000]\n",
      "loss: 0.303943  [38464/60000]\n",
      "loss: 0.490382  [44864/60000]\n",
      "loss: 0.412547  [51264/60000]\n",
      "loss: 0.454745  [57664/60000]\n",
      "Test Error: \n",
      " Accuracy: 85.4%, Avg loss: 0.396090 \n",
      "\n",
      "Epoch 3\n",
      "-------------------------------\n",
      "loss: 0.217470  [   64/60000]\n",
      "loss: 0.339472  [ 6464/60000]\n",
      "loss: 0.233601  [12864/60000]\n",
      "loss: 0.326719  [19264/60000]\n",
      "loss: 0.404295  [25664/60000]\n",
      "loss: 0.359180  [32064/60000]\n",
      "loss: 0.276142  [38464/60000]\n",
      "loss: 0.434472  [44864/60000]\n",
      "loss: 0.332469  [51264/60000]\n",
      "loss: 0.402681  [57664/60000]\n",
      "Test Error: \n",
      " Accuracy: 85.9%, Avg loss: 0.380580 \n",
      "\n",
      "Epoch 4\n",
      "-------------------------------\n",
      "loss: 0.221186  [   64/60000]\n",
      "loss: 0.299829  [ 6464/60000]\n",
      "loss: 0.210987  [12864/60000]\n",
      "loss: 0.264386  [19264/60000]\n",
      "loss: 0.346169  [25664/60000]\n",
      "loss: 0.315576  [32064/60000]\n",
      "loss: 0.226186  [38464/60000]\n",
      "loss: 0.423226  [44864/60000]\n",
      "loss: 0.292712  [51264/60000]\n",
      "loss: 0.362410  [57664/60000]\n",
      "Test Error: \n",
      " Accuracy: 87.1%, Avg loss: 0.355349 \n",
      "\n",
      "Epoch 5\n",
      "-------------------------------\n",
      "loss: 0.188006  [   64/60000]\n",
      "loss: 0.248344  [ 6464/60000]\n",
      "loss: 0.221260  [12864/60000]\n",
      "loss: 0.246449  [19264/60000]\n",
      "loss: 0.364733  [25664/60000]\n",
      "loss: 0.299162  [32064/60000]\n",
      "loss: 0.228872  [38464/60000]\n",
      "loss: 0.357628  [44864/60000]\n",
      "loss: 0.284954  [51264/60000]\n",
      "loss: 0.307330  [57664/60000]\n",
      "Test Error: \n",
      " Accuracy: 87.4%, Avg loss: 0.340698 \n",
      "\n",
      "Done!\n"
     ]
    }
   ],
   "source": [
    "# Initial accuracy\n",
    "test(test_dataloader, model, loss_fn)\n",
    "\n",
    "epochs = 5\n",
    "for t in range(epochs):\n",
    "    print(f\"Epoch {t+1}\\n-------------------------------\")\n",
    "    train(train_dataloader, model, loss_fn, optimizer)\n",
    "    test(test_dataloader, model, loss_fn)\n",
    "print(\"Done!\")"
   ]
  },
  {
   "cell_type": "code",
   "execution_count": 8,
   "metadata": {},
   "outputs": [
    {
     "name": "stdout",
     "output_type": "stream",
     "text": [
      "Predicted class: Trouser, Actual class: Trouser\n"
     ]
    }
   ],
   "source": [
    "# Forward propagation on first data sample\n",
    "\n",
    "X = sample_data[0].to(device)\n",
    "logits = model(X)\n",
    "pred_probab = nn.Softmax(dim=1)(logits)\n",
    "y_pred = pred_probab.argmax(1).cpu().item()\n",
    "\n",
    "print(f\"Predicted class: {datasets.FashionMNIST.classes[y_pred]}, Actual class: {datasets.FashionMNIST.classes[sample_data[1]]}\")"
   ]
  },
  {
   "cell_type": "code",
   "execution_count": null,
   "metadata": {},
   "outputs": [],
   "source": []
  }
 ],
 "metadata": {
  "kernelspec": {
   "display_name": "Python Pytorch",
   "language": "python",
   "name": "pytorch"
  },
  "language_info": {
   "codemirror_mode": {
    "name": "ipython",
    "version": 3
   },
   "file_extension": ".py",
   "mimetype": "text/x-python",
   "name": "python",
   "nbconvert_exporter": "python",
   "pygments_lexer": "ipython3",
   "version": "3.11.5"
  }
 },
 "nbformat": 4,
 "nbformat_minor": 2
}

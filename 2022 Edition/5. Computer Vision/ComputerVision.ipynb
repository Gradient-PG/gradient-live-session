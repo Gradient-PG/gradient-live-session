{
  "cells": [
    {
      "cell_type": "markdown",
      "metadata": {
        "id": "LaGQ5E_FJbbb"
      },
      "source": [
        "<img src=\"https://drive.google.com/uc?export=view&id=1uDiRDsBQS2OijoIu83KvnqRfAOlToUk2\" style=\"width: 200px;\"/>"
      ]
    },
    {
      "cell_type": "markdown",
      "metadata": {
        "id": "aMESP4RAJbbc"
      },
      "source": [
        "# Computer Vision\n",
        "##### Dominik Kuczkowski\n",
        "\n",
        "Description:\n",
        "\n",
        "In this notebook you will learn how to train a handwritten digit classifier.\n",
        "You will use data from MNIST database, which contains images of digits from 0 to 9. You will utilize Convolutional Neural Network to solve that task. At the end you will have a chance to create your own network.\n",
        "\n",
        "<a href=\"TODO\">Run in Google Colab</a>\n",
        "## Table of Contents \n",
        "**[1. Handwritten digit classifier](#1.-Section-1)<br>**\n",
        "&nbsp;&nbsp;&nbsp;&nbsp;[1.1 MNIST dataset](#1.1-Subsection-1.1)<br>\n",
        "&nbsp;&nbsp;&nbsp;&nbsp;[1.2 Neural Network](#1.2-Subsection-1.2)<br>\n",
        "&nbsp;&nbsp;&nbsp;&nbsp;[1.3 Training the model](#1.3-Subsection-1.3)<br>\n",
        "**[2. Task](#2.-Section-2)<br>**"
      ]
    },
    {
      "cell_type": "code",
      "source": [],
      "metadata": {
        "id": "_CauLvbvkwIx"
      },
      "execution_count": null,
      "outputs": []
    },
    {
      "cell_type": "markdown",
      "metadata": {
        "id": "4dARF7A3Jbbd"
      },
      "source": [
        "---\n",
        "<a name=\"1.-Section-1\"></a>\n",
        "# 1. Handwritten digit classifier"
      ]
    },
    {
      "cell_type": "markdown",
      "source": [
        "In this section you will learn:\n",
        " - how to load MNIST dataset\n",
        " \n",
        " - how to create a simple CNN in Keras\n",
        " \n",
        " - how to train and evaluate the network\n",
        "\n",
        " To code below imports all required libraries."
      ],
      "metadata": {
        "id": "5blX8Rzbbtdg"
      }
    },
    {
      "cell_type": "code",
      "source": [
        "import numpy as np\n",
        "from tensorflow import keras\n",
        "from tensorflow.keras import layers"
      ],
      "metadata": {
        "id": "j_GWXDUx3__1"
      },
      "execution_count": null,
      "outputs": []
    },
    {
      "cell_type": "markdown",
      "metadata": {
        "id": "n5asnwU1Jbbe"
      },
      "source": [
        "<a name=\"1.1-Subsection-1.1\"></a>\n",
        "## 1.1 MNIST dataset"
      ]
    },
    {
      "cell_type": "markdown",
      "metadata": {
        "id": "HezOBd-lJbbe"
      },
      "source": [
        "[MNIST](http://yann.lecun.com/exdb/mnist/) dataset contains images of handwritten digits. It is a very popular dataset for creating your first CNN classifier. We will use methods available in Keras to load it."
      ]
    },
    {
      "cell_type": "code",
      "execution_count": null,
      "metadata": {
        "id": "dOzcSiAGJbbe",
        "colab": {
          "base_uri": "https://localhost:8080/"
        },
        "outputId": "9aad8727-678e-4c8b-d8c9-95923cf51b95"
      },
      "outputs": [
        {
          "output_type": "stream",
          "name": "stdout",
          "text": [
            "Downloading data from https://storage.googleapis.com/tensorflow/tf-keras-datasets/mnist.npz\n",
            "11490434/11490434 [==============================] - 2s 0us/step\n"
          ]
        }
      ],
      "source": [
        "# Load the data and split it between train and test sets\n",
        "(x_train, y_train), (x_test, y_test) = keras.datasets.mnist.load_data()\n"
      ]
    },
    {
      "cell_type": "code",
      "source": [
        "# Let's visualize some of the data\n",
        "import matplotlib.pyplot as plt\n",
        "\n",
        "# We need to create a figure\n",
        "fig = plt.figure(figsize=(10, 10))\n",
        "\n",
        "# Then we have to add subplots to the figure and plot the images\n",
        "fig.add_subplot(2, 2, 1)\n",
        "plt.imshow(x_train[0], cmap='gray')\n",
        "\n",
        "fig.add_subplot(2, 2, 2)\n",
        "plt.imshow(x_train[1], cmap='gray')\n",
        "\n",
        "fig.add_subplot(2, 2, 3)\n",
        "plt.imshow(x_train[2], cmap='gray')\n",
        "\n",
        "fig.add_subplot(2, 2, 4)\n",
        "plt.imshow(x_train[3], cmap='gray')"
      ],
      "metadata": {
        "colab": {
          "base_uri": "https://localhost:8080/",
          "height": 609
        },
        "id": "xSmz0WHj6PJ0",
        "outputId": "efa74ced-5166-40b2-95b2-824d8a69f97e"
      },
      "execution_count": null,
      "outputs": [
        {
          "output_type": "execute_result",
          "data": {
            "text/plain": [
              "<matplotlib.image.AxesImage at 0x7fea81f48580>"
            ]
          },
          "metadata": {},
          "execution_count": 3
        },
        {
          "output_type": "display_data",
          "data": {
            "text/plain": [
              "<Figure size 720x720 with 4 Axes>"
            ],
            "image/png": "[encoded data removed]"
          },
          "metadata": {
            "needs_background": "light"
          }
        }
      ]
    },
    {
      "cell_type": "markdown",
      "source": [
        "As we can see the images are in grayscale. What other properties do these images have? Let's find out. "
      ],
      "metadata": {
        "id": "Kqz0yAE171eQ"
      }
    },
    {
      "cell_type": "code",
      "source": [
        "# Train dataset\n",
        "print(f\"The train part of the dataset contains: {x_train.shape[0]} images\")\n",
        "# Test dataset\n",
        "print(f\"The test part of the dataset contains: {x_test.shape[0]} images\")\n",
        "# One image\n",
        "print(f\"Shape of one image is: {x_train[0].shape}\")\n",
        "print(f\"Data type of the images is: {x_train[0].dtype}\")\n",
        "print(f\"Max value of images is: {x_train.max()} and min value of images is: {x_train.min()}\")"
      ],
      "metadata": {
        "colab": {
          "base_uri": "https://localhost:8080/"
        },
        "id": "_IzdSsTm8IQD",
        "outputId": "85967860-4737-4e77-d054-047a7f5cfc6e"
      },
      "execution_count": null,
      "outputs": [
        {
          "output_type": "stream",
          "name": "stdout",
          "text": [
            "The train part of the dataset contains: 60000 images\n",
            "The test part of the dataset contains: 10000 images\n",
            "Shape of one image is: (28, 28)\n",
            "Data type of the images is: uint8\n",
            "Max value of images is: 255 and min value of images is: 0\n"
          ]
        }
      ]
    },
    {
      "cell_type": "markdown",
      "source": [
        "So we have checked other properties of the dataset. We now know that there are 60000 images in the train set and 10000 images in the test set. The images are 28 pixels wide and 28 pixel high. They are represented as 8 bit unsigned integers,so they can hold values from 0 to 255.\n",
        "\n",
        "Neural Networks in general require data to be in range [-1, 1] or [0, 1]. Also GPU's that are mostly used during neural network training are more optimized towards operations on floating point numbers. Because of that we have to do some preprocessing on our data."
      ],
      "metadata": {
        "id": "b7aB25rT9XCf"
      }
    },
    {
      "cell_type": "code",
      "source": [
        "# Scale images to the [0, 1] range\n",
        "x_train = x_train.astype(\"float32\") / 255\n",
        "x_test = x_test.astype(\"float32\") / 255\n",
        "\n",
        "# Make sure images have shape (28, 28, 1)\n",
        "x_train = np.expand_dims(x_train, -1)\n",
        "x_test = np.expand_dims(x_test, -1)\n",
        "print(\"x_train shape:\", x_train.shape)\n",
        "\n",
        "\n",
        "# The last thing we need to do:\n",
        "# change labels represantation from int to vectors with 1 in place which index corresponds to the digit\n",
        "# e.g. label for digit 5 -> [0,0,0,0,0,1,0,0,0,0]\n",
        "num_classes = 10 # we have 10 digits\n",
        "y_train = keras.utils.to_categorical(y_train, num_classes)\n",
        "y_test = keras.utils.to_categorical(y_test, num_classes)"
      ],
      "metadata": {
        "colab": {
          "base_uri": "https://localhost:8080/"
        },
        "id": "vHZJM8Ec-L_u",
        "outputId": "af1e2290-a766-42d2-d91d-95afd0675902"
      },
      "execution_count": null,
      "outputs": [
        {
          "output_type": "stream",
          "name": "stdout",
          "text": [
            "x_train shape: (60000, 28, 28, 1)\n"
          ]
        }
      ]
    },
    {
      "cell_type": "markdown",
      "metadata": {
        "id": "19Jl8QeHJbbe"
      },
      "source": [
        "<a name=\"1.2-Subsection-1.2\"></a>\n",
        "## 1.2 Neural Network\n"
      ]
    },
    {
      "cell_type": "markdown",
      "source": [
        "It's time to create the model. We will use Keras Sequential API that enables quick and easy creation on Neural Network models."
      ],
      "metadata": {
        "id": "xYVPyUQlbuet"
      }
    },
    {
      "cell_type": "code",
      "execution_count": null,
      "metadata": {
        "id": "Glb2_YDvJbbe",
        "colab": {
          "base_uri": "https://localhost:8080/"
        },
        "outputId": "a15e8f76-4502-4919-e28e-9b939a2c6074"
      },
      "outputs": [
        {
          "output_type": "stream",
          "name": "stdout",
          "text": [
            "Model: \"sequential\"\n",
            "_________________________________________________________________\n",
            " Layer (type)                Output Shape              Param #   \n",
            "=================================================================\n",
            " conv2d (Conv2D)             (None, 26, 26, 32)        320       \n",
            "                                                                 \n",
            " max_pooling2d (MaxPooling2D  (None, 13, 13, 32)       0         \n",
            " )                                                               \n",
            "                                                                 \n",
            " conv2d_1 (Conv2D)           (None, 11, 11, 64)        18496     \n",
            "                                                                 \n",
            " max_pooling2d_1 (MaxPooling  (None, 5, 5, 64)         0         \n",
            " 2D)                                                             \n",
            "                                                                 \n",
            " flatten (Flatten)           (None, 1600)              0         \n",
            "                                                                 \n",
            " dropout (Dropout)           (None, 1600)              0         \n",
            "                                                                 \n",
            " dense (Dense)               (None, 10)                16010     \n",
            "                                                                 \n",
            "=================================================================\n",
            "Total params: 34,826\n",
            "Trainable params: 34,826\n",
            "Non-trainable params: 0\n",
            "_________________________________________________________________\n"
          ]
        }
      ],
      "source": [
        "model = keras.Sequential(\n",
        "    [\n",
        "        keras.Input(shape=(28, 28, 1)),\n",
        "        layers.Conv2D(32, kernel_size=(3, 3), activation=\"relu\"), # This is the convolution layer that was described on the meeting, it has relu activation function\n",
        "        layers.MaxPooling2D(pool_size=(2, 2)), # This is the pooling layer, it \n",
        "        layers.Conv2D(64, kernel_size=(3, 3), activation=\"relu\"),\n",
        "        layers.MaxPooling2D(pool_size=(2, 2)),\n",
        "        layers.Flatten(),\n",
        "        layers.Dropout(0.5), # This layer randomly disabled some of the neurons\n",
        "        layers.Dense(num_classes, activation=\"softmax\"),\n",
        "    ]\n",
        ")\n",
        "\n",
        "model.summary()"
      ]
    },
    {
      "cell_type": "markdown",
      "metadata": {
        "id": "9AFU7l0aJbbf"
      },
      "source": [
        "<a name=\"1.3-Subsection-1.3\"></a>\n",
        "## 1.3 Training the model\n"
      ]
    },
    {
      "cell_type": "markdown",
      "source": [
        "We now have almost all of the elements required for model training. The data is loaded and the model is defined. Last thing we need to do is to compile the model. During that we determine which loss function we would like to use and what optimizer will be used to update the parameters. Also we determine the type of metrics that will be used to evaluate our model.\n",
        "\n"
      ],
      "metadata": {
        "id": "cNwmfqpIb32O"
      }
    },
    {
      "cell_type": "code",
      "execution_count": null,
      "metadata": {
        "id": "mog_irCLJbbf"
      },
      "outputs": [],
      "source": [
        "model.compile(loss=\"categorical_crossentropy\", optimizer=\"adam\", metrics=[\"accuracy\"])"
      ]
    },
    {
      "cell_type": "markdown",
      "source": [
        "Now we can train the model. Keras has a very simple way of doing that. You only need to call the method fit with some parameters."
      ],
      "metadata": {
        "id": "Zls28ufoCPCJ"
      }
    },
    {
      "cell_type": "code",
      "source": [
        "batch_size = 128 # Training data will be spli in chunks of this size that will be passed through the network at the same time\n",
        "epochs = 10 # During one epoch the model 'sees' all of the training data, with this parameter we determine how many times the model will be allowed to see them\n",
        "validation_split = 0.1 # Determines what percentage of training data will be used to validate the model after each epoch\n",
        "history = model.fit(x_train, y_train, batch_size=batch_size, epochs=epochs, validation_split=validation_split)"
      ],
      "metadata": {
        "colab": {
          "base_uri": "https://localhost:8080/"
        },
        "id": "e3qWfE4_CYv6",
        "outputId": "fe8b0fa8-a8ed-4d06-b09d-2d7b9b22438b"
      },
      "execution_count": null,
      "outputs": [
        {
          "output_type": "stream",
          "name": "stdout",
          "text": [
            "Epoch 1/4\n",
            "422/422 [==============================] - 11s 6ms/step - loss: 0.3842 - accuracy: 0.8802 - val_loss: 0.0922 - val_accuracy: 0.9745\n",
            "Epoch 2/4\n",
            "422/422 [==============================] - 2s 5ms/step - loss: 0.1210 - accuracy: 0.9629 - val_loss: 0.0585 - val_accuracy: 0.9827\n",
            "Epoch 3/4\n",
            "422/422 [==============================] - 2s 5ms/step - loss: 0.0902 - accuracy: 0.9723 - val_loss: 0.0488 - val_accuracy: 0.9853\n",
            "Epoch 4/4\n",
            "422/422 [==============================] - 2s 5ms/step - loss: 0.0756 - accuracy: 0.9772 - val_loss: 0.0447 - val_accuracy: 0.9872\n"
          ]
        }
      ]
    },
    {
      "cell_type": "markdown",
      "source": [
        "With the model trained we can visualize values of metrics collected during trainig to better understand what happend."
      ],
      "metadata": {
        "id": "muboTLWfDGYJ"
      }
    },
    {
      "cell_type": "code",
      "source": [
        "val_loss = history.history['val_loss']\n",
        "val_acc = history.history['val_accuracy']\n",
        "loss = history.history['loss']\n",
        "acc = history.history['accuracy']\n",
        "\n",
        "fig = plt.figure(figsize=(10, 10))\n",
        "\n",
        "fig.add_subplot(2, 2, 1)\n",
        "plt.plot(acc)\n",
        "plt.plot(val_acc)\n",
        "plt.legend(['training', 'validiation'])\n",
        "plt.title(\"Accuracy\")\n",
        "\n",
        "fig.add_subplot(2, 2, 2)\n",
        "plt.plot(loss)\n",
        "plt.plot(val_loss)\n",
        "plt.legend(['training', 'validation'])\n",
        "plt.title(\"Loss\")\n"
      ],
      "metadata": {
        "colab": {
          "base_uri": "https://localhost:8080/",
          "height": 328
        },
        "id": "pUa7ZOYPEqHq",
        "outputId": "30e150f8-95b0-40f0-a57b-f4f7b2b3d5c8"
      },
      "execution_count": null,
      "outputs": [
        {
          "output_type": "execute_result",
          "data": {
            "text/plain": [
              "Text(0.5, 1.0, 'Loss')"
            ]
          },
          "metadata": {},
          "execution_count": 9
        },
        {
          "output_type": "display_data",
          "data": {
            "text/plain": [
              "<Figure size 720x720 with 2 Axes>"
            ],
            "image/png": "[encoded data removed]"
          },
          "metadata": {
            "needs_background": "light"
          }
        }
      ]
    },
    {
      "cell_type": "markdown",
      "source": [
        "With the model trained we can check how it classifies the test data. To do that we will use another method from Keras: evaluate()."
      ],
      "metadata": {
        "id": "gy0yFbYIzOHr"
      }
    },
    {
      "cell_type": "code",
      "source": [
        "score = model.evaluate(x_test, y_test, verbose=0)\n",
        "print(\"Test loss:\", score[0])\n",
        "print(\"Test accuracy:\", score[1])"
      ],
      "metadata": {
        "colab": {
          "base_uri": "https://localhost:8080/"
        },
        "id": "uUACK9uazXsq",
        "outputId": "de9575ee-2d2f-4681-c6a9-1d9b64e4f5d4"
      },
      "execution_count": null,
      "outputs": [
        {
          "output_type": "stream",
          "name": "stdout",
          "text": [
            "Test loss: 0.04773509502410889\n",
            "Test accuracy: 0.9843000173568726\n"
          ]
        }
      ]
    },
    {
      "cell_type": "markdown",
      "source": [
        "Accuracy on test set is very high. This means that our model is classifying digits very well. To finish this notebook let's look at our model's outputs."
      ],
      "metadata": {
        "id": "l79-gwUZz_qB"
      }
    },
    {
      "cell_type": "code",
      "source": [
        "ind = np.random.randint(x_test.shape[0]) # Generate random index\n",
        "image = x_test[ind] # Select image with the random index\n",
        "label = y_test[ind] # Select corresponding label\n",
        "\n",
        "# Pass the image through the network. \n",
        "# Because the model expects to get data in batches, np.expand_dims() adds one additional dimension to the image\n",
        "# Now the image has dimensions (1, 28, 28, 1)\n",
        "y_pred = model.predict(np.expand_dims(image, 0)) \n",
        "\n",
        "# Plotting the image, this time without any dimensions equal to 1\n",
        "# np.squeeze() removes these\n",
        "plt.imshow(np.squeeze(image), cmap='gray')\n",
        "plt.title(\"Sample image\")\n",
        "\n",
        "# Print the predicted and actual label. Predictions are in form of vectors with probabilities,,\n",
        "# so the index of the highest probility should be the number from the image.\n",
        "print(f\"Predicted label is: {np.argmax(y_pred)}, actual label is: {np.argmax(label)}\")"
      ],
      "metadata": {
        "colab": {
          "base_uri": "https://localhost:8080/",
          "height": 316
        },
        "id": "XhVF-OjS0Men",
        "outputId": "094a4fed-a4b4-4e80-b0d4-f5da5c5417a2"
      },
      "execution_count": null,
      "outputs": [
        {
          "output_type": "stream",
          "name": "stdout",
          "text": [
            "1/1 [==============================] - 0s 15ms/step\n",
            "Predicted label is: 1, actual label is: 1\n"
          ]
        },
        {
          "output_type": "display_data",
          "data": {
            "text/plain": [
              "<Figure size 432x288 with 1 Axes>"
            ],
            "image/png": "[encoded data removed]"
          },
          "metadata": {
            "needs_background": "light"
          }
        }
      ]
    },
    {
      "cell_type": "markdown",
      "metadata": {
        "id": "yC7dOVFKJbbf"
      },
      "source": [
        "---\n",
        "<a name=\"2.-Section-2\"></a>\n",
        "# 2. Task: create a classifier for CIFAR10 dataset"
      ]
    },
    {
      "cell_type": "markdown",
      "source": [
        "CIFAR10 is a dataset that contains images from 10 different classes. The classes are: airplanes, cars, birds, cats, deer, dogs, frogs, horses, ships, and trucks. Based on the code above experiment with this dataset.\n",
        "Try to visualize the different classes. Create a classifier for them. Try to change neural network parameters and look what happens. Wish you luck."
      ],
      "metadata": {
        "id": "bRq_umRqbwUB"
      }
    },
    {
      "cell_type": "code",
      "execution_count": null,
      "metadata": {
        "id": "v6bGmL9sJbbf"
      },
      "outputs": [],
      "source": [
        "(x_train, y_train), (x_test, y_test) = keras.datasets.cifar10.load_data()"
      ]
    },
    {
      "cell_type": "code",
      "source": [
        "# Place your code here\n",
        "\n",
        "\n",
        "\n",
        "\n",
        "\n",
        "\n",
        "\n",
        "\n",
        "\n",
        "\n",
        "\n"
      ],
      "metadata": {
        "id": "qRw20XJeQpKi"
      },
      "execution_count": null,
      "outputs": []
    },
    {
      "cell_type": "markdown",
      "source": [
        "---\n",
        "\n",
        "This notebook is a part of introductory machine learning course, led by the [Gradient](https://gradient.eti.pg.gda.pl/) science club in the 2022/2023 school year.\n",
        "\n",
        "<img src=\"https://drive.google.com/uc?export=view&id=1P7SX6J_GWlS1ENxVaZCcBO0BxHP6ULEg\" width=\"1050\"/>"
      ],
      "metadata": {
        "id": "xZ23d5lsPloz"
      }
    }
  ],
  "metadata": {
    "kernelspec": {
      "display_name": "Python 3.8.5 32-bit",
      "language": "python",
      "name": "python3"
    },
    "language_info": {
      "codemirror_mode": {
        "name": "ipython",
        "version": 3
      },
      "file_extension": ".py",
      "mimetype": "text/x-python",
      "name": "python",
      "nbconvert_exporter": "python",
      "pygments_lexer": "ipython3",
      "version": "3.8.5"
    },
    "orig_nbformat": 4,
    "vscode": {
      "interpreter": {
        "hash": "298c87bb46c0ece7abcceec7d9fcd87435e079314f0dee0953f90f5b1b40d0e0"
      }
    },
    "colab": {
      "provenance": [],
      "collapsed_sections": [
        "gfWyqq39eY53"
      ]
    },
    "accelerator": "GPU",
    "gpuClass": "standard"
  },
  "nbformat": 4,
  "nbformat_minor": 0
}